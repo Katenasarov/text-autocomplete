{
 "cells": [
  {
   "cell_type": "markdown",
   "id": "44400542-996b-435e-ac9a-bcba08468748",
   "metadata": {},
   "source": [
    "https://github.com/Katenasarov/text-autocomplete"
   ]
  },
  {
   "cell_type": "markdown",
   "id": "1429bccf-b947-424b-8a23-60f7b463093a",
   "metadata": {},
   "source": [
    "## Сбор и подготовка данных."
   ]
  },
  {
   "cell_type": "code",
   "execution_count": 1,
   "id": "79f93d6f-e575-4cdd-bb1f-60ab02b2fb62",
   "metadata": {},
   "outputs": [],
   "source": [
    "# Импорты\n",
    "import pandas as pd\n",
    "import os\n",
    "import torch\n",
    "from transformers import GPT2Tokenizer\n",
    "from transformers import pipeline\n",
    "from rouge_score import rouge_scorer\n",
    "from torch.utils.data import DataLoader\n",
    "import sys\n",
    "sys.path.append('src')\n",
    "import logging\n",
    "logging.getLogger(\"transformers\").setLevel(logging.ERROR)"
   ]
  },
  {
   "cell_type": "code",
   "execution_count": null,
   "id": "e7653640-de30-4ae6-ba61-f607e4b5707d",
   "metadata": {},
   "outputs": [],
   "source": [
    "# Создание директорий\n",
    "os.makedirs(\"data\", exist_ok=True)\n",
    "os.makedirs(\"models\", exist_ok=True)"
   ]
  },
  {
   "cell_type": "code",
   "execution_count": 2,
   "id": "4be48620-265a-48d8-aa52-1b7854246c6d",
   "metadata": {},
   "outputs": [
    {
     "name": "stdout",
     "output_type": "stream",
     "text": [
      "Архив скачан: trainingdata.zip\n",
      "Распаковано в папку temp_data\n",
      "Файл перемещён: data/raw_dataset.csv\n",
      "Временные файлы удалены\n",
      "Очищенный датасет сохранён: data/dataset_processed.csv\n",
      "train: 1277102, val: 159638, test: 159638\n"
     ]
    }
   ],
   "source": [
    "# Сбор и подготовка данных\n",
    "from src.data_utils import *\n",
    "download_and_extract_dataset()\n",
    "prepare_dataset()\n",
    "split_dataset()"
   ]
  },
  {
   "cell_type": "code",
   "execution_count": 3,
   "id": "c51f0571-27d6-4230-9297-a14188f3e9d2",
   "metadata": {},
   "outputs": [],
   "source": [
    "# DataLoader\n",
    "from src.next_token_dataset import NextTokenDataset\n",
    "\n",
    "tokenizer = GPT2Tokenizer.from_pretrained(\"gpt2\")\n",
    "tokenizer.pad_token = tokenizer.eos_token\n",
    "tokenizer.save_pretrained(\"models/tokenizer/\")\n",
    "\n",
    "train_texts = pd.read_csv(\"data/train.csv\")['text'].tolist()[:10000]\n",
    "val_texts = pd.read_csv(\"data/val.csv\")['text'].tolist()[:2000]\n",
    "\n",
    "train_dataset = NextTokenDataset(train_texts, tokenizer, max_length=20)\n",
    "val_dataset = NextTokenDataset(val_texts, tokenizer, max_length=20)\n",
    "\n",
    "def collate_fn(batch, pad_token_id=50256):\n",
    "    import torch\n",
    "    from torch import nn\n",
    "\n",
    "    input_ids = [torch.tensor(item['input_ids']) for item in batch]\n",
    "    labels = [torch.tensor(item['labels']) for item in batch]\n",
    "\n",
    "    # Паддинг до максимальной длины в батче\n",
    "    input_ids = nn.utils.rnn.pad_sequence(input_ids, batch_first=True, padding_value=pad_token_id)\n",
    "    labels = nn.utils.rnn.pad_sequence(labels, batch_first=True, padding_value=pad_token_id)\n",
    "\n",
    "    return input_ids, labels\n",
    "\n",
    "train_loader = DataLoader(train_dataset, batch_size=64, shuffle=True, collate_fn=collate_fn)\n",
    "val_loader = DataLoader(val_dataset, batch_size=64, shuffle=False, collate_fn=collate_fn)"
   ]
  },
  {
   "cell_type": "markdown",
   "id": "515aff05-779c-4526-baaf-294b6a5a75c2",
   "metadata": {},
   "source": [
    "## Реализация рекуррентной сети."
   ]
  },
  {
   "cell_type": "code",
   "execution_count": 6,
   "id": "1c30adb1-7773-43bc-9141-98a734fbe884",
   "metadata": {},
   "outputs": [
    {
     "name": "stderr",
     "output_type": "stream",
     "text": [
      "Epoch 1: 100%|███████████████████████████████████████████████████████████████████████| 156/156 [05:46<00:00,  2.22s/it]\n"
     ]
    },
    {
     "name": "stdout",
     "output_type": "stream",
     "text": [
      "Epoch 1, Loss: 7.9220\n"
     ]
    },
    {
     "name": "stderr",
     "output_type": "stream",
     "text": [
      "Epoch 2: 100%|███████████████████████████████████████████████████████████████████████| 156/156 [05:45<00:00,  2.22s/it]\n"
     ]
    },
    {
     "name": "stdout",
     "output_type": "stream",
     "text": [
      "Epoch 2, Loss: 7.1525\n"
     ]
    },
    {
     "name": "stderr",
     "output_type": "stream",
     "text": [
      "Epoch 3: 100%|███████████████████████████████████████████████████████████████████████| 156/156 [05:50<00:00,  2.25s/it]\n"
     ]
    },
    {
     "name": "stdout",
     "output_type": "stream",
     "text": [
      "Epoch 3, Loss: 7.0614\n"
     ]
    },
    {
     "name": "stderr",
     "output_type": "stream",
     "text": [
      "Epoch 4: 100%|███████████████████████████████████████████████████████████████████████| 156/156 [06:05<00:00,  2.34s/it]\n"
     ]
    },
    {
     "name": "stdout",
     "output_type": "stream",
     "text": [
      "Epoch 4, Loss: 7.0325\n"
     ]
    },
    {
     "name": "stderr",
     "output_type": "stream",
     "text": [
      "Epoch 5: 100%|███████████████████████████████████████████████████████████████████████| 156/156 [05:52<00:00,  2.26s/it]"
     ]
    },
    {
     "name": "stdout",
     "output_type": "stream",
     "text": [
      "Epoch 5, Loss: 6.9867\n",
      "Модель сохранена: models/lstm_model.pth\n"
     ]
    },
    {
     "name": "stderr",
     "output_type": "stream",
     "text": [
      "\n"
     ]
    }
   ],
   "source": [
    "# Обучение LSTM\n",
    "from lstm_train import train_lstm_model \n",
    "device = 'cuda' if torch.cuda.is_available() else 'cpu'\n",
    "model = train_lstm_model(train_loader, val_loader, vocab_size=tokenizer.vocab_size, device=device)"
   ]
  },
  {
   "cell_type": "markdown",
   "id": "c7c68281-535f-476b-b7b6-b53fd8c8c3b0",
   "metadata": {},
   "source": [
    "## Оценка LSTM"
   ]
  },
  {
   "cell_type": "code",
   "execution_count": 11,
   "id": "9320a5ec-e793-4510-b59a-cde6cd1d282a",
   "metadata": {},
   "outputs": [
    {
     "name": "stderr",
     "output_type": "stream",
     "text": [
      "Evaluating LSTM: 100%|█████████████████████████████████████████████████████████████████| 32/32 [12:51<00:00, 24.11s/it]"
     ]
    },
    {
     "name": "stdout",
     "output_type": "stream",
     "text": [
      "LSTM ROUGE-1: 0.3415\n",
      "LSTM ROUGE-2: 0.2989\n"
     ]
    },
    {
     "name": "stderr",
     "output_type": "stream",
     "text": [
      "\n"
     ]
    }
   ],
   "source": [
    "# Оценка LSTM\n",
    "sys.path.append('./src')\n",
    "from eval_lstm import evaluate_lstm\n",
    "lstm_rouge1, lstm_rouge2 = evaluate_lstm(model, val_loader, tokenizer, device=device)"
   ]
  },
  {
   "cell_type": "markdown",
   "id": "3e1a8314-e032-4bab-b91d-96eb70190896",
   "metadata": {},
   "source": [
    "***Промежуточный вывод LSTM***\n",
    "\n",
    "Несмотря на то, что LSTM и показала среднее качество ROUGE-1 и ROUGE-2, но модель повторяет «i», возможные причины:\n",
    " - Мало примеров т.е. данных, так как с целью экономии была ограничена выборка.\n",
    " - Возможно модель не научилась генерировать разнообразные слова.\n",
    " - Либо слишком мало эпох.\n",
    " - Может быть модель слишком простая."
   ]
  },
  {
   "cell_type": "markdown",
   "id": "a8463cee-02cf-40bf-ba5b-f2a5dce44ff8",
   "metadata": {},
   "source": [
    "## Использование предобученного трансформера"
   ]
  },
  {
   "cell_type": "code",
   "execution_count": 70,
   "id": "d469b7fc-23ba-4c25-b10a-f7a724e888d4",
   "metadata": {},
   "outputs": [
    {
     "name": "stderr",
     "output_type": "stream",
     "text": [
      "DistilGPT-2: 100%|███████████████████████████████████████████████████████████████████| 100/100 [00:57<00:00,  1.74it/s]"
     ]
    },
    {
     "name": "stdout",
     "output_type": "stream",
     "text": [
      "DistilGPT-2 (на 100 примерах):\n",
      "  ROUGE-1: 0.6468\n",
      "  ROUGE-2: 0.5968\n"
     ]
    },
    {
     "name": "stderr",
     "output_type": "stream",
     "text": [
      "\n"
     ]
    }
   ],
   "source": [
    "# Этап 4: Оценка DistilGPT-2\n",
    "from eval_transformer_pipeline import evaluate_transformer\n",
    "r1, r2 = evaluate_transformer(val_loader, tokenizer, device=device, max_examples=100)"
   ]
  },
  {
   "cell_type": "markdown",
   "id": "74314d5f-c6e5-4b6e-b28c-373ab3e190ff",
   "metadata": {},
   "source": [
    "## Сравнение моделей"
   ]
  },
  {
   "cell_type": "code",
   "execution_count": 73,
   "id": "05d64b60-5cee-4ebc-9124-0cd24096dcb7",
   "metadata": {},
   "outputs": [
    {
     "name": "stdout",
     "output_type": "stream",
     "text": [
      "Оценка автодополнения LSTM:\n",
      "Промпт: i love\n",
      "Дополнение LSTM: i love i i i i i i i i i i i i i i i i i i\n",
      "Промпт: today is\n",
      "Дополнение LSTM: today is i i i i i i i i i i i i i i i i i i\n",
      "Промпт: i feel\n",
      "Дополнение LSTM: i feel i i i i i i i i i i i i i i i i i i\n",
      "Промпт: this is\n",
      "Дополнение LSTM: this is i i i i i i i i i i i i i i i i i i\n",
      "Промпт: i want\n",
      "Дополнение LSTM: i want i i i i i i i i i i i i i i i i i i\n",
      "Оценка автодополнения DistilGPT:\n",
      "Промпт: i love\n",
      "Дополнение DistilGPT: i love for these amazing images of her life, the story of her life as a singer and photographer\n",
      "Промпт: today is\n",
      "Дополнение DistilGPT: today is. When a new one comes out, the best information is always going to be out there\n",
      "Промпт: i feel\n",
      "Дополнение DistilGPT: i feel like it was just sitting on your couch (which made this sound quite annoying).\n",
      "Промпт: this is\n",
      "Дополнение DistilGPT: this is not used in the default case as a standard of functionality, it makes it very useful in\n",
      "Промпт: i want\n",
      "Дополнение DistilGPT: i want me. I want me. I want you. I want you. I want you.\n"
     ]
    }
   ],
   "source": [
    "# Сравнение результатов LSTM и DistilGPT-2\n",
    "# Загружаем модель DistilGPT-2\n",
    "generator_DistilGPT = pipeline(\"text-generation\", model=\"distilgpt2\")\n",
    "\n",
    "# Примеры промптов — начала фраз\n",
    "examples = [\n",
    "    \"i love\",\n",
    "    \"today is\",\n",
    "    \"i feel\",\n",
    "    \"this is\",\n",
    "    \"i want\"\n",
    "]\n",
    "print(\"Оценка автодополнения LSTM:\")\n",
    "for prompt in examples:\n",
    "    generated = model.generate(tokenizer, prompt, max_length=20, device=device)\n",
    "    print(f\"Промпт: {prompt}\")\n",
    "    print(f\"Дополнение LSTM: {generated}\")\n",
    "print(\"Оценка автодополнения DistilGPT:\")\n",
    "for prompt in examples:\n",
    "    result = generator_DistilGPT(prompt, max_length=20, do_sample=True, top_k=50)\n",
    "    generated = result[0]['generated_text']\n",
    "    print(f\"Промпт: {prompt}\")\n",
    "    print(f\"Дополнение DistilGPT: {generated}\")"
   ]
  },
  {
   "cell_type": "markdown",
   "id": "172e0dbc-0eae-4412-99f1-5987f32ec015",
   "metadata": {},
   "source": [
    "***Вывод сравнение результатов LSTM и DistilGPT-2***\n",
    "\n",
    "- LSTM: ROUGE-1 ~0.34, ROUGE-2 ~0.29, Низкий качество и уровень: повторяет слова, не строит осмысленные фразы.\n",
    "- DistilGPT-2: ROUGE-1 ~0.65, ROUGE-2 ~0.60, Высокий уровень: генерирует логичные, связные и естественные предложения."
   ]
  },
  {
   "cell_type": "code",
   "execution_count": null,
   "id": "203bc530-aa7a-4a74-8755-d3e2bae0b6dc",
   "metadata": {},
   "outputs": [],
   "source": []
  }
 ],
 "metadata": {
  "ExecuteTimeLog": [
   {
    "duration": 3,
    "start_time": "2023-12-02T19:00:43.923Z"
   },
   {
    "duration": 539,
    "start_time": "2023-12-02T19:02:47.732Z"
   },
   {
    "duration": 158,
    "start_time": "2023-12-02T19:09:21.203Z"
   },
   {
    "duration": 39,
    "start_time": "2023-12-02T19:09:46.451Z"
   },
   {
    "duration": 83,
    "start_time": "2023-12-02T19:15:12.700Z"
   },
   {
    "duration": 3,
    "start_time": "2023-12-02T19:15:50.565Z"
   },
   {
    "duration": 47,
    "start_time": "2023-12-02T19:15:55.814Z"
   },
   {
    "duration": 63,
    "start_time": "2023-12-02T19:17:28.751Z"
   },
   {
    "duration": 73,
    "start_time": "2023-12-02T19:17:53.526Z"
   },
   {
    "duration": 47,
    "start_time": "2023-12-02T19:18:31.615Z"
   },
   {
    "duration": 49,
    "start_time": "2023-12-02T19:18:42.296Z"
   },
   {
    "duration": 35,
    "start_time": "2023-12-02T19:19:15.255Z"
   },
   {
    "duration": 42,
    "start_time": "2023-12-02T19:19:35.085Z"
   },
   {
    "duration": 6,
    "start_time": "2023-12-02T19:22:24.238Z"
   },
   {
    "duration": 445,
    "start_time": "2023-12-02T19:23:28.353Z"
   },
   {
    "duration": 7,
    "start_time": "2023-12-02T19:23:40.729Z"
   },
   {
    "duration": 3317,
    "start_time": "2023-12-02T19:25:04.890Z"
   },
   {
    "duration": 8,
    "start_time": "2023-12-02T19:25:13.203Z"
   },
   {
    "duration": 798,
    "start_time": "2023-12-02T19:25:28.902Z"
   },
   {
    "duration": 1428,
    "start_time": "2023-12-02T19:26:52.846Z"
   },
   {
    "duration": 688,
    "start_time": "2023-12-02T19:27:28.873Z"
   },
   {
    "duration": 647,
    "start_time": "2023-12-02T19:27:48.516Z"
   },
   {
    "duration": 1617,
    "start_time": "2023-12-02T19:28:11.625Z"
   },
   {
    "duration": 577,
    "start_time": "2023-12-02T19:28:17.105Z"
   },
   {
    "duration": 7,
    "start_time": "2023-12-02T19:30:24.147Z"
   },
   {
    "duration": 5,
    "start_time": "2023-12-02T19:30:59.487Z"
   },
   {
    "duration": 582,
    "start_time": "2023-12-02T19:39:21.542Z"
   },
   {
    "duration": 6,
    "start_time": "2023-12-02T19:39:52.129Z"
   },
   {
    "duration": 9,
    "start_time": "2023-12-02T19:39:55.069Z"
   },
   {
    "duration": 11,
    "start_time": "2023-12-02T19:40:27.910Z"
   },
   {
    "duration": 12,
    "start_time": "2023-12-02T19:41:41.460Z"
   },
   {
    "duration": 2467,
    "start_time": "2023-12-02T19:44:11.825Z"
   },
   {
    "duration": 5,
    "start_time": "2023-12-02T19:44:14.294Z"
   },
   {
    "duration": 43,
    "start_time": "2023-12-02T19:44:14.300Z"
   },
   {
    "duration": 34,
    "start_time": "2023-12-02T19:44:14.345Z"
   },
   {
    "duration": 23,
    "start_time": "2023-12-02T19:44:14.380Z"
   },
   {
    "duration": 8,
    "start_time": "2023-12-02T19:44:14.404Z"
   },
   {
    "duration": 11,
    "start_time": "2023-12-02T19:44:14.414Z"
   },
   {
    "duration": 847,
    "start_time": "2023-12-02T19:44:14.426Z"
   },
   {
    "duration": 6,
    "start_time": "2023-12-02T19:44:15.274Z"
   },
   {
    "duration": 6,
    "start_time": "2023-12-02T19:44:21.179Z"
   },
   {
    "duration": 11,
    "start_time": "2023-12-02T19:44:59.635Z"
   },
   {
    "duration": 7,
    "start_time": "2023-12-02T19:46:17.360Z"
   },
   {
    "duration": 8,
    "start_time": "2023-12-02T19:46:26.085Z"
   },
   {
    "duration": 7,
    "start_time": "2023-12-02T19:47:14.282Z"
   },
   {
    "duration": 4,
    "start_time": "2023-12-02T19:47:23.595Z"
   },
   {
    "duration": 9,
    "start_time": "2023-12-02T19:48:11.889Z"
   },
   {
    "duration": 11,
    "start_time": "2023-12-02T19:50:55.734Z"
   },
   {
    "duration": 11,
    "start_time": "2023-12-02T19:51:10.484Z"
   },
   {
    "duration": 2447,
    "start_time": "2023-12-02T19:51:22.260Z"
   },
   {
    "duration": 3,
    "start_time": "2023-12-02T19:51:24.709Z"
   },
   {
    "duration": 50,
    "start_time": "2023-12-02T19:51:24.714Z"
   },
   {
    "duration": 44,
    "start_time": "2023-12-02T19:51:24.766Z"
   },
   {
    "duration": 22,
    "start_time": "2023-12-02T19:51:24.812Z"
   },
   {
    "duration": 8,
    "start_time": "2023-12-02T19:51:24.835Z"
   },
   {
    "duration": 13,
    "start_time": "2023-12-02T19:51:27.180Z"
   },
   {
    "duration": 105,
    "start_time": "2023-12-02T19:55:51.198Z"
   },
   {
    "duration": 39,
    "start_time": "2023-12-02T19:56:50.485Z"
   },
   {
    "duration": 76,
    "start_time": "2023-12-02T19:59:22.794Z"
   },
   {
    "duration": 75,
    "start_time": "2023-12-02T20:01:20.196Z"
   },
   {
    "duration": 10,
    "start_time": "2023-12-02T20:11:20.576Z"
   },
   {
    "duration": 7,
    "start_time": "2023-12-02T20:12:22.422Z"
   },
   {
    "duration": 23,
    "start_time": "2023-12-02T20:12:35.520Z"
   },
   {
    "duration": 14,
    "start_time": "2023-12-02T20:12:59.557Z"
   },
   {
    "duration": 16,
    "start_time": "2023-12-02T20:13:16.901Z"
   },
   {
    "duration": 12,
    "start_time": "2023-12-02T20:13:24.353Z"
   },
   {
    "duration": 2538,
    "start_time": "2023-12-02T20:13:58.984Z"
   },
   {
    "duration": 3,
    "start_time": "2023-12-02T20:14:01.524Z"
   },
   {
    "duration": 60,
    "start_time": "2023-12-02T20:14:01.529Z"
   },
   {
    "duration": 35,
    "start_time": "2023-12-02T20:14:01.591Z"
   },
   {
    "duration": 23,
    "start_time": "2023-12-02T20:14:01.628Z"
   },
   {
    "duration": 7,
    "start_time": "2023-12-02T20:14:01.652Z"
   },
   {
    "duration": 18,
    "start_time": "2023-12-02T20:14:01.661Z"
   },
   {
    "duration": 791,
    "start_time": "2023-12-02T20:14:01.680Z"
   },
   {
    "duration": 7,
    "start_time": "2023-12-02T20:14:02.472Z"
   },
   {
    "duration": 40,
    "start_time": "2023-12-02T20:14:02.480Z"
   },
   {
    "duration": 58,
    "start_time": "2023-12-02T20:14:02.521Z"
   },
   {
    "duration": 13,
    "start_time": "2023-12-02T20:14:12.794Z"
   },
   {
    "duration": 7,
    "start_time": "2023-12-02T20:14:49.234Z"
   },
   {
    "duration": 13,
    "start_time": "2023-12-02T20:15:05.404Z"
   },
   {
    "duration": 8,
    "start_time": "2023-12-02T20:15:16.597Z"
   },
   {
    "duration": 91,
    "start_time": "2023-12-02T20:20:24.522Z"
   },
   {
    "duration": 65,
    "start_time": "2023-12-02T20:20:44.108Z"
   },
   {
    "duration": 73,
    "start_time": "2023-12-02T20:21:05.313Z"
   },
   {
    "duration": 3184,
    "start_time": "2023-12-05T09:52:39.403Z"
   },
   {
    "duration": 1273,
    "start_time": "2023-12-05T09:52:52.816Z"
   },
   {
    "duration": 95,
    "start_time": "2023-12-05T09:53:05.629Z"
   },
   {
    "duration": 96,
    "start_time": "2023-12-05T09:53:18.186Z"
   },
   {
    "duration": 77,
    "start_time": "2023-12-05T09:53:25.570Z"
   },
   {
    "duration": 10,
    "start_time": "2023-12-05T09:53:37.523Z"
   },
   {
    "duration": 13,
    "start_time": "2023-12-05T09:54:04.315Z"
   },
   {
    "duration": 874,
    "start_time": "2023-12-05T09:54:08.473Z"
   },
   {
    "duration": 9,
    "start_time": "2023-12-05T09:54:12.639Z"
   },
   {
    "duration": 6,
    "start_time": "2023-12-05T09:54:16.941Z"
   },
   {
    "duration": 48,
    "start_time": "2023-12-05T09:54:21.462Z"
   },
   {
    "duration": 8,
    "start_time": "2023-12-05T09:54:25.095Z"
   },
   {
    "duration": 7,
    "start_time": "2023-12-05T10:01:01.604Z"
   },
   {
    "duration": 99,
    "start_time": "2023-12-05T10:01:20.330Z"
   },
   {
    "duration": 9,
    "start_time": "2023-12-05T10:01:41.433Z"
   },
   {
    "duration": 5,
    "start_time": "2023-12-05T10:01:46.243Z"
   },
   {
    "duration": 238,
    "start_time": "2023-12-05T10:02:58.927Z"
   },
   {
    "duration": 148,
    "start_time": "2023-12-05T10:03:08.289Z"
   },
   {
    "duration": 213,
    "start_time": "2023-12-05T10:05:29.652Z"
   },
   {
    "duration": 126,
    "start_time": "2023-12-05T10:05:42.311Z"
   },
   {
    "duration": 151,
    "start_time": "2023-12-05T10:07:59.573Z"
   },
   {
    "duration": 146,
    "start_time": "2023-12-05T10:08:29.845Z"
   },
   {
    "duration": 96,
    "start_time": "2023-12-05T10:11:26.990Z"
   },
   {
    "duration": 115,
    "start_time": "2023-12-05T10:11:58.719Z"
   },
   {
    "duration": 145,
    "start_time": "2023-12-05T10:15:02.672Z"
   },
   {
    "duration": 12,
    "start_time": "2023-12-05T10:18:04.406Z"
   },
   {
    "duration": 436,
    "start_time": "2023-12-05T10:18:15.213Z"
   },
   {
    "duration": 149,
    "start_time": "2023-12-05T10:19:34.991Z"
   },
   {
    "duration": 11,
    "start_time": "2023-12-05T10:19:46.968Z"
   },
   {
    "duration": 148,
    "start_time": "2023-12-05T10:19:53.911Z"
   },
   {
    "duration": 150,
    "start_time": "2023-12-05T10:20:04.237Z"
   },
   {
    "duration": 138,
    "start_time": "2023-12-05T10:21:22.290Z"
   },
   {
    "duration": 135,
    "start_time": "2023-12-05T10:21:38.704Z"
   },
   {
    "duration": 115,
    "start_time": "2023-12-05T10:24:18.597Z"
   },
   {
    "duration": 217,
    "start_time": "2023-12-05T10:24:50.026Z"
   },
   {
    "duration": 134,
    "start_time": "2023-12-05T10:25:01.058Z"
   },
   {
    "duration": 139,
    "start_time": "2023-12-05T10:25:29.363Z"
   },
   {
    "duration": 133,
    "start_time": "2023-12-05T10:26:36.483Z"
   },
   {
    "duration": 157,
    "start_time": "2023-12-05T10:27:35.877Z"
   },
   {
    "duration": 140,
    "start_time": "2023-12-05T10:27:49.539Z"
   },
   {
    "duration": 135,
    "start_time": "2023-12-05T10:28:33.271Z"
   },
   {
    "duration": 131,
    "start_time": "2023-12-05T10:28:45.290Z"
   },
   {
    "duration": 142,
    "start_time": "2023-12-05T10:28:52.857Z"
   },
   {
    "duration": 9,
    "start_time": "2023-12-05T10:29:48.908Z"
   },
   {
    "duration": 9,
    "start_time": "2023-12-05T10:30:26.521Z"
   },
   {
    "duration": 122,
    "start_time": "2023-12-05T10:30:44.949Z"
   },
   {
    "duration": 137,
    "start_time": "2023-12-05T10:31:20.622Z"
   },
   {
    "duration": 137,
    "start_time": "2023-12-05T10:31:39.123Z"
   },
   {
    "duration": 209,
    "start_time": "2023-12-05T10:32:17.337Z"
   },
   {
    "duration": 131,
    "start_time": "2023-12-05T10:32:32.146Z"
   },
   {
    "duration": 130,
    "start_time": "2023-12-05T10:33:56.286Z"
   },
   {
    "duration": 133,
    "start_time": "2023-12-05T10:39:21.263Z"
   },
   {
    "duration": 131,
    "start_time": "2023-12-05T10:39:43.072Z"
   },
   {
    "duration": 113,
    "start_time": "2023-12-05T10:40:41.369Z"
   },
   {
    "duration": 134,
    "start_time": "2023-12-05T10:41:14.635Z"
   },
   {
    "duration": 76,
    "start_time": "2023-12-05T10:42:29.739Z"
   },
   {
    "duration": 83,
    "start_time": "2023-12-05T10:42:55.520Z"
   },
   {
    "duration": 140,
    "start_time": "2023-12-05T10:43:05.714Z"
   },
   {
    "duration": 10,
    "start_time": "2023-12-05T10:43:16.491Z"
   },
   {
    "duration": 134,
    "start_time": "2023-12-05T10:43:24.606Z"
   },
   {
    "duration": 134,
    "start_time": "2023-12-05T10:46:59.615Z"
   },
   {
    "duration": 74,
    "start_time": "2023-12-05T10:48:37.288Z"
   },
   {
    "duration": 75,
    "start_time": "2023-12-05T10:48:53.976Z"
   },
   {
    "duration": 72,
    "start_time": "2023-12-05T10:49:07.071Z"
   },
   {
    "duration": 77,
    "start_time": "2023-12-05T10:50:33.117Z"
   },
   {
    "duration": 217,
    "start_time": "2023-12-05T10:50:46.074Z"
   },
   {
    "duration": 131,
    "start_time": "2023-12-05T10:50:51.828Z"
   },
   {
    "duration": 76,
    "start_time": "2023-12-05T10:51:38.204Z"
   },
   {
    "duration": 77,
    "start_time": "2023-12-05T10:51:42.838Z"
   },
   {
    "duration": 87,
    "start_time": "2023-12-05T10:52:05.602Z"
   },
   {
    "duration": 152,
    "start_time": "2023-12-05T12:07:36.624Z"
   },
   {
    "duration": 118,
    "start_time": "2023-12-05T12:08:32.323Z"
   },
   {
    "duration": 134,
    "start_time": "2023-12-05T12:08:52.492Z"
   },
   {
    "duration": 5,
    "start_time": "2023-12-05T12:11:18.087Z"
   },
   {
    "duration": 6,
    "start_time": "2023-12-05T12:11:30.006Z"
   },
   {
    "duration": 81,
    "start_time": "2023-12-05T12:16:13.757Z"
   },
   {
    "duration": 79,
    "start_time": "2023-12-05T12:16:23.452Z"
   },
   {
    "duration": 8,
    "start_time": "2023-12-05T12:16:38.086Z"
   },
   {
    "duration": 8,
    "start_time": "2023-12-05T12:17:14.724Z"
   },
   {
    "duration": 9,
    "start_time": "2023-12-05T12:17:17.909Z"
   },
   {
    "duration": 11,
    "start_time": "2023-12-05T12:17:47.540Z"
   },
   {
    "duration": 21,
    "start_time": "2023-12-05T12:19:58.912Z"
   },
   {
    "duration": 30,
    "start_time": "2023-12-05T12:21:30.525Z"
   },
   {
    "duration": 16,
    "start_time": "2023-12-05T12:21:46.130Z"
   },
   {
    "duration": 9,
    "start_time": "2023-12-05T12:22:11.109Z"
   },
   {
    "duration": 9,
    "start_time": "2023-12-05T12:22:24.908Z"
   },
   {
    "duration": 9,
    "start_time": "2023-12-05T12:22:28.756Z"
   },
   {
    "duration": 10,
    "start_time": "2023-12-05T12:25:12.568Z"
   },
   {
    "duration": 9,
    "start_time": "2023-12-05T12:25:21.699Z"
   },
   {
    "duration": 14,
    "start_time": "2023-12-05T12:25:31.426Z"
   },
   {
    "duration": 24,
    "start_time": "2023-12-05T12:26:01.123Z"
   },
   {
    "duration": 383,
    "start_time": "2023-12-05T12:27:01.757Z"
   },
   {
    "duration": 2472,
    "start_time": "2023-12-05T12:27:30.468Z"
   },
   {
    "duration": 499,
    "start_time": "2023-12-05T12:28:48.948Z"
   },
   {
    "duration": 92,
    "start_time": "2023-12-05T12:30:05.384Z"
   },
   {
    "duration": 236,
    "start_time": "2023-12-05T12:30:24.482Z"
   },
   {
    "duration": 253,
    "start_time": "2023-12-05T12:31:24.011Z"
   },
   {
    "duration": 241,
    "start_time": "2023-12-05T12:31:28.786Z"
   },
   {
    "duration": 238,
    "start_time": "2023-12-05T12:31:34.359Z"
   },
   {
    "duration": 223,
    "start_time": "2023-12-05T12:31:41.117Z"
   },
   {
    "duration": 237,
    "start_time": "2023-12-05T12:31:47.446Z"
   },
   {
    "duration": 260,
    "start_time": "2023-12-05T12:31:56.815Z"
   },
   {
    "duration": 294,
    "start_time": "2023-12-05T12:32:01.724Z"
   },
   {
    "duration": 259,
    "start_time": "2023-12-05T12:32:09.691Z"
   },
   {
    "duration": 265,
    "start_time": "2023-12-05T12:32:37.722Z"
   },
   {
    "duration": 383,
    "start_time": "2023-12-05T12:33:26.211Z"
   },
   {
    "duration": 323,
    "start_time": "2023-12-05T12:35:20.895Z"
   },
   {
    "duration": 312,
    "start_time": "2023-12-05T12:35:37.844Z"
   },
   {
    "duration": 264,
    "start_time": "2023-12-05T12:35:44.936Z"
   },
   {
    "duration": 262,
    "start_time": "2023-12-05T12:35:58.885Z"
   },
   {
    "duration": 169,
    "start_time": "2023-12-05T12:57:29.983Z"
   },
   {
    "duration": 286,
    "start_time": "2023-12-05T12:57:41.653Z"
   },
   {
    "duration": 142,
    "start_time": "2023-12-05T12:58:21.091Z"
   },
   {
    "duration": 173,
    "start_time": "2023-12-05T12:58:28.718Z"
   },
   {
    "duration": 1473,
    "start_time": "2023-12-05T12:59:07.031Z"
   },
   {
    "duration": 151,
    "start_time": "2023-12-05T12:59:22.722Z"
   },
   {
    "duration": 161,
    "start_time": "2023-12-05T13:00:16.793Z"
   },
   {
    "duration": 174,
    "start_time": "2023-12-05T13:00:26.192Z"
   },
   {
    "duration": 173,
    "start_time": "2023-12-05T13:00:42.700Z"
   },
   {
    "duration": 179,
    "start_time": "2023-12-05T13:05:41.758Z"
   },
   {
    "duration": 4,
    "start_time": "2023-12-05T13:06:00.524Z"
   },
   {
    "duration": 172,
    "start_time": "2023-12-05T13:06:05.334Z"
   },
   {
    "duration": 3,
    "start_time": "2023-12-05T13:06:19.056Z"
   },
   {
    "duration": 173,
    "start_time": "2023-12-05T13:06:29.014Z"
   },
   {
    "duration": 3,
    "start_time": "2023-12-05T13:06:39.767Z"
   },
   {
    "duration": 3,
    "start_time": "2023-12-05T13:10:39.761Z"
   },
   {
    "duration": 171,
    "start_time": "2023-12-05T13:10:44.743Z"
   },
   {
    "duration": 173,
    "start_time": "2023-12-05T13:11:25.169Z"
   },
   {
    "duration": 5,
    "start_time": "2023-12-05T13:31:45.200Z"
   },
   {
    "duration": 6,
    "start_time": "2023-12-05T13:39:36.711Z"
   },
   {
    "duration": 5,
    "start_time": "2023-12-05T13:39:51.589Z"
   },
   {
    "duration": 11,
    "start_time": "2023-12-05T13:40:55.806Z"
   },
   {
    "duration": 9,
    "start_time": "2023-12-05T13:41:02.702Z"
   },
   {
    "duration": 329,
    "start_time": "2023-12-05T13:43:33.839Z"
   },
   {
    "duration": 163,
    "start_time": "2023-12-05T13:47:52.969Z"
   },
   {
    "duration": 168,
    "start_time": "2023-12-05T13:48:16.727Z"
   },
   {
    "duration": 290,
    "start_time": "2023-12-05T13:49:46.114Z"
   },
   {
    "duration": 315,
    "start_time": "2023-12-05T14:32:40.362Z"
   },
   {
    "duration": 315,
    "start_time": "2023-12-05T14:45:22.141Z"
   },
   {
    "duration": 292,
    "start_time": "2023-12-05T14:45:41.490Z"
   },
   {
    "duration": 309,
    "start_time": "2023-12-05T14:45:57.814Z"
   },
   {
    "duration": 15,
    "start_time": "2023-12-05T15:00:15.355Z"
   },
   {
    "duration": 7,
    "start_time": "2023-12-05T15:00:54.910Z"
   },
   {
    "duration": 15,
    "start_time": "2023-12-05T15:01:10.564Z"
   },
   {
    "duration": 20,
    "start_time": "2023-12-05T15:03:43.812Z"
   },
   {
    "duration": 20,
    "start_time": "2023-12-05T15:04:33.360Z"
   },
   {
    "duration": 22,
    "start_time": "2023-12-05T16:08:34.008Z"
   },
   {
    "duration": 25,
    "start_time": "2023-12-05T16:10:57.975Z"
   },
   {
    "duration": 24,
    "start_time": "2023-12-05T16:11:01.484Z"
   },
   {
    "duration": 25,
    "start_time": "2023-12-05T16:12:21.873Z"
   },
   {
    "duration": 25,
    "start_time": "2023-12-05T16:14:45.118Z"
   },
   {
    "duration": 34,
    "start_time": "2023-12-05T16:15:26.346Z"
   },
   {
    "duration": 23,
    "start_time": "2023-12-05T16:16:09.057Z"
   },
   {
    "duration": 27,
    "start_time": "2023-12-05T16:17:30.291Z"
   },
   {
    "duration": 35,
    "start_time": "2023-12-05T16:19:36.658Z"
   },
   {
    "duration": 24,
    "start_time": "2023-12-05T16:22:17.767Z"
   },
   {
    "duration": 82,
    "start_time": "2023-12-05T16:22:32.338Z"
   },
   {
    "duration": 81,
    "start_time": "2023-12-05T16:22:51.607Z"
   },
   {
    "duration": 24,
    "start_time": "2023-12-05T16:22:57.251Z"
   },
   {
    "duration": 26,
    "start_time": "2023-12-05T16:24:12.646Z"
   },
   {
    "duration": 19,
    "start_time": "2023-12-05T16:24:20.262Z"
   },
   {
    "duration": 20,
    "start_time": "2023-12-05T16:24:54.891Z"
   },
   {
    "duration": 139,
    "start_time": "2023-12-05T16:25:07.576Z"
   },
   {
    "duration": 994,
    "start_time": "2023-12-05T16:25:12.722Z"
   },
   {
    "duration": 22,
    "start_time": "2023-12-05T16:25:37.767Z"
   },
   {
    "duration": 20,
    "start_time": "2023-12-05T16:26:25.236Z"
   },
   {
    "duration": 10,
    "start_time": "2023-12-05T16:27:22.422Z"
   },
   {
    "duration": 11,
    "start_time": "2023-12-05T16:27:31.745Z"
   },
   {
    "duration": 222,
    "start_time": "2023-12-05T16:34:08.496Z"
   },
   {
    "duration": 217,
    "start_time": "2023-12-05T16:34:43.390Z"
   },
   {
    "duration": 159,
    "start_time": "2023-12-05T16:35:47.409Z"
   },
   {
    "duration": 308,
    "start_time": "2023-12-05T16:36:01.262Z"
   },
   {
    "duration": 301,
    "start_time": "2023-12-05T16:36:08.584Z"
   },
   {
    "duration": 250,
    "start_time": "2023-12-05T16:36:22.817Z"
   },
   {
    "duration": 3,
    "start_time": "2023-12-05T16:36:56.290Z"
   },
   {
    "duration": 251,
    "start_time": "2023-12-05T16:37:01.282Z"
   },
   {
    "duration": 159,
    "start_time": "2023-12-05T16:42:40.705Z"
   },
   {
    "duration": 1066,
    "start_time": "2023-12-05T16:44:53.767Z"
   },
   {
    "duration": 231,
    "start_time": "2023-12-05T16:45:19.221Z"
   },
   {
    "duration": 192,
    "start_time": "2023-12-05T16:45:52.060Z"
   },
   {
    "duration": 230,
    "start_time": "2023-12-05T16:46:06.943Z"
   },
   {
    "duration": 227,
    "start_time": "2023-12-05T16:49:56.756Z"
   },
   {
    "duration": 1199,
    "start_time": "2023-12-05T16:50:43.696Z"
   },
   {
    "duration": 1286,
    "start_time": "2023-12-05T16:51:08.083Z"
   },
   {
    "duration": 1303,
    "start_time": "2023-12-05T16:51:38.513Z"
   },
   {
    "duration": 335,
    "start_time": "2023-12-05T16:52:03.463Z"
   },
   {
    "duration": 1212,
    "start_time": "2023-12-05T16:52:42.044Z"
   },
   {
    "duration": 158,
    "start_time": "2023-12-05T16:52:55.547Z"
   },
   {
    "duration": 2381,
    "start_time": "2023-12-05T16:53:54.060Z"
   },
   {
    "duration": 3,
    "start_time": "2023-12-05T16:53:56.444Z"
   },
   {
    "duration": 57,
    "start_time": "2023-12-05T16:53:56.448Z"
   },
   {
    "duration": 37,
    "start_time": "2023-12-05T16:53:56.507Z"
   },
   {
    "duration": 26,
    "start_time": "2023-12-05T16:53:56.546Z"
   },
   {
    "duration": 9,
    "start_time": "2023-12-05T16:53:56.573Z"
   },
   {
    "duration": 12,
    "start_time": "2023-12-05T16:53:56.584Z"
   },
   {
    "duration": 842,
    "start_time": "2023-12-05T16:53:56.597Z"
   },
   {
    "duration": 7,
    "start_time": "2023-12-05T16:53:57.440Z"
   },
   {
    "duration": 24,
    "start_time": "2023-12-05T16:53:57.448Z"
   },
   {
    "duration": 200,
    "start_time": "2023-12-05T16:53:57.473Z"
   },
   {
    "duration": 7,
    "start_time": "2023-12-05T16:53:57.675Z"
   },
   {
    "duration": 170,
    "start_time": "2023-12-05T16:53:57.683Z"
   },
   {
    "duration": 82,
    "start_time": "2023-12-05T16:53:57.855Z"
   },
   {
    "duration": 220,
    "start_time": "2023-12-05T16:53:57.938Z"
   },
   {
    "duration": 319,
    "start_time": "2023-12-05T16:53:58.159Z"
   },
   {
    "duration": 331,
    "start_time": "2023-12-05T16:53:58.480Z"
   },
   {
    "duration": 23,
    "start_time": "2023-12-05T16:53:58.812Z"
   },
   {
    "duration": 10,
    "start_time": "2023-12-05T16:53:58.837Z"
   },
   {
    "duration": 215,
    "start_time": "2023-12-05T16:54:02.268Z"
   },
   {
    "duration": 206,
    "start_time": "2023-12-05T16:54:18.632Z"
   },
   {
    "duration": 163,
    "start_time": "2023-12-05T16:54:26.777Z"
   },
   {
    "duration": 185,
    "start_time": "2023-12-05T16:54:58.480Z"
   },
   {
    "duration": 19,
    "start_time": "2023-12-05T17:00:18.966Z"
   },
   {
    "duration": 10,
    "start_time": "2023-12-05T17:01:02.174Z"
   },
   {
    "duration": 17,
    "start_time": "2023-12-05T17:02:07.561Z"
   },
   {
    "duration": 154,
    "start_time": "2023-12-05T17:02:33.986Z"
   },
   {
    "duration": 152,
    "start_time": "2023-12-05T17:02:46.329Z"
   },
   {
    "duration": 184,
    "start_time": "2023-12-05T17:03:18.188Z"
   },
   {
    "duration": 340,
    "start_time": "2023-12-05T17:03:40.541Z"
   },
   {
    "duration": 251,
    "start_time": "2023-12-05T17:03:49.124Z"
   },
   {
    "duration": 446,
    "start_time": "2023-12-05T17:04:31.662Z"
   },
   {
    "duration": 86,
    "start_time": "2023-12-05T17:05:29.344Z"
   },
   {
    "duration": 194,
    "start_time": "2023-12-05T17:06:02.166Z"
   },
   {
    "duration": 250,
    "start_time": "2023-12-05T17:06:25.117Z"
   },
   {
    "duration": 258,
    "start_time": "2023-12-05T17:07:02.296Z"
   },
   {
    "duration": 129,
    "start_time": "2023-12-05T17:10:28.911Z"
   },
   {
    "duration": 176,
    "start_time": "2023-12-05T17:11:39.899Z"
   },
   {
    "duration": 182,
    "start_time": "2023-12-05T17:18:49.340Z"
   },
   {
    "duration": 155,
    "start_time": "2023-12-05T17:19:04.780Z"
   },
   {
    "duration": 340,
    "start_time": "2023-12-05T17:19:10.417Z"
   },
   {
    "duration": 270,
    "start_time": "2023-12-05T17:19:16.276Z"
   },
   {
    "duration": 1096,
    "start_time": "2023-12-05T17:21:53.624Z"
   },
   {
    "duration": 1222,
    "start_time": "2023-12-05T17:24:09.147Z"
   },
   {
    "duration": 1215,
    "start_time": "2023-12-05T17:24:34.224Z"
   },
   {
    "duration": 24,
    "start_time": "2023-12-05T17:25:20.447Z"
   },
   {
    "duration": 24,
    "start_time": "2023-12-05T17:25:26.674Z"
   },
   {
    "duration": 1234,
    "start_time": "2023-12-05T17:28:27.092Z"
   },
   {
    "duration": 600,
    "start_time": "2023-12-05T17:30:20.509Z"
   },
   {
    "duration": 329,
    "start_time": "2023-12-05T17:30:46.899Z"
   },
   {
    "duration": 556,
    "start_time": "2023-12-05T17:31:23.617Z"
   },
   {
    "duration": 889,
    "start_time": "2023-12-05T17:31:36.890Z"
   },
   {
    "duration": 597,
    "start_time": "2023-12-05T17:32:06.142Z"
   },
   {
    "duration": 68,
    "start_time": "2023-12-05T17:36:42.492Z"
   },
   {
    "duration": 6,
    "start_time": "2023-12-05T17:36:53.425Z"
   },
   {
    "duration": 4,
    "start_time": "2023-12-05T17:37:03.714Z"
   },
   {
    "duration": 5,
    "start_time": "2023-12-05T17:37:23.504Z"
   },
   {
    "duration": 3,
    "start_time": "2023-12-05T17:40:19.712Z"
   },
   {
    "duration": 5,
    "start_time": "2023-12-05T17:40:34.347Z"
   },
   {
    "duration": 3,
    "start_time": "2023-12-05T17:40:40.080Z"
   },
   {
    "duration": 5,
    "start_time": "2023-12-05T17:42:15.544Z"
   },
   {
    "duration": 5,
    "start_time": "2023-12-05T17:42:29.550Z"
   },
   {
    "duration": 5,
    "start_time": "2023-12-05T17:43:04.216Z"
   },
   {
    "duration": 5,
    "start_time": "2023-12-05T17:43:44.439Z"
   },
   {
    "duration": 4,
    "start_time": "2023-12-05T17:47:09.739Z"
   },
   {
    "duration": 5,
    "start_time": "2023-12-05T17:57:53.015Z"
   },
   {
    "duration": 10,
    "start_time": "2023-12-05T17:58:10.955Z"
   },
   {
    "duration": 4,
    "start_time": "2023-12-05T17:58:21.155Z"
   },
   {
    "duration": 79,
    "start_time": "2023-12-05T18:00:09.595Z"
   },
   {
    "duration": 3017,
    "start_time": "2023-12-06T06:23:46.839Z"
   },
   {
    "duration": 1349,
    "start_time": "2023-12-06T06:23:49.858Z"
   },
   {
    "duration": 93,
    "start_time": "2023-12-06T06:23:51.209Z"
   },
   {
    "duration": 84,
    "start_time": "2023-12-06T06:23:51.303Z"
   },
   {
    "duration": 64,
    "start_time": "2023-12-06T06:23:51.389Z"
   },
   {
    "duration": 9,
    "start_time": "2023-12-06T06:23:51.454Z"
   },
   {
    "duration": 18,
    "start_time": "2023-12-06T06:23:51.464Z"
   },
   {
    "duration": 861,
    "start_time": "2023-12-06T06:23:51.483Z"
   },
   {
    "duration": 6,
    "start_time": "2023-12-06T06:23:52.346Z"
   },
   {
    "duration": 9,
    "start_time": "2023-12-06T06:23:52.354Z"
   },
   {
    "duration": 62,
    "start_time": "2023-12-06T06:23:52.364Z"
   },
   {
    "duration": 7,
    "start_time": "2023-12-06T06:23:52.428Z"
   },
   {
    "duration": 146,
    "start_time": "2023-12-06T06:23:52.436Z"
   },
   {
    "duration": 87,
    "start_time": "2023-12-06T06:23:52.584Z"
   },
   {
    "duration": 173,
    "start_time": "2023-12-06T06:23:52.682Z"
   },
   {
    "duration": 369,
    "start_time": "2023-12-06T06:23:52.856Z"
   },
   {
    "duration": 303,
    "start_time": "2023-12-06T06:23:53.227Z"
   },
   {
    "duration": 23,
    "start_time": "2023-12-06T06:23:53.532Z"
   },
   {
    "duration": 25,
    "start_time": "2023-12-06T06:23:53.557Z"
   },
   {
    "duration": 498,
    "start_time": "2023-12-06T06:23:53.584Z"
   },
   {
    "duration": 563,
    "start_time": "2023-12-06T06:23:54.083Z"
   },
   {
    "duration": 25,
    "start_time": "2023-12-06T06:23:54.647Z"
   },
   {
    "duration": 33,
    "start_time": "2023-12-06T06:23:54.674Z"
   },
   {
    "duration": 4,
    "start_time": "2023-12-06T06:24:23.933Z"
   },
   {
    "duration": 23,
    "start_time": "2023-12-06T06:29:51.403Z"
   },
   {
    "duration": 22,
    "start_time": "2023-12-06T06:29:54.998Z"
   },
   {
    "duration": 22,
    "start_time": "2023-12-06T06:29:57.418Z"
   },
   {
    "duration": 10,
    "start_time": "2023-12-06T06:30:03.591Z"
   },
   {
    "duration": 4,
    "start_time": "2023-12-06T06:30:14.004Z"
   },
   {
    "duration": 6,
    "start_time": "2023-12-06T07:51:58.777Z"
   },
   {
    "duration": 2300,
    "start_time": "2023-12-06T08:00:20.126Z"
   },
   {
    "duration": 3,
    "start_time": "2023-12-06T08:00:22.429Z"
   },
   {
    "duration": 53,
    "start_time": "2023-12-06T08:00:22.434Z"
   },
   {
    "duration": 47,
    "start_time": "2023-12-06T08:00:22.489Z"
   },
   {
    "duration": 32,
    "start_time": "2023-12-06T08:00:22.538Z"
   },
   {
    "duration": 11,
    "start_time": "2023-12-06T08:00:22.572Z"
   },
   {
    "duration": 13,
    "start_time": "2023-12-06T08:00:25.549Z"
   },
   {
    "duration": 2295,
    "start_time": "2023-12-06T08:01:17.798Z"
   },
   {
    "duration": 4,
    "start_time": "2023-12-06T08:01:20.095Z"
   },
   {
    "duration": 45,
    "start_time": "2023-12-06T08:01:20.100Z"
   },
   {
    "duration": 39,
    "start_time": "2023-12-06T08:01:20.146Z"
   },
   {
    "duration": 27,
    "start_time": "2023-12-06T08:01:20.187Z"
   },
   {
    "duration": 9,
    "start_time": "2023-12-06T08:01:20.216Z"
   },
   {
    "duration": 9,
    "start_time": "2023-12-06T08:01:20.227Z"
   },
   {
    "duration": 906,
    "start_time": "2023-12-06T08:01:20.238Z"
   },
   {
    "duration": 8,
    "start_time": "2023-12-06T08:01:21.145Z"
   },
   {
    "duration": 14,
    "start_time": "2023-12-06T08:01:21.155Z"
   },
   {
    "duration": 22,
    "start_time": "2023-12-06T08:01:21.170Z"
   },
   {
    "duration": 20,
    "start_time": "2023-12-06T08:01:21.194Z"
   },
   {
    "duration": 143,
    "start_time": "2023-12-06T08:01:21.215Z"
   },
   {
    "duration": 87,
    "start_time": "2023-12-06T08:01:21.362Z"
   },
   {
    "duration": 180,
    "start_time": "2023-12-06T08:01:21.450Z"
   },
   {
    "duration": 327,
    "start_time": "2023-12-06T08:01:21.631Z"
   },
   {
    "duration": 324,
    "start_time": "2023-12-06T08:01:21.960Z"
   },
   {
    "duration": 25,
    "start_time": "2023-12-06T08:01:22.286Z"
   },
   {
    "duration": 12,
    "start_time": "2023-12-06T08:01:22.313Z"
   },
   {
    "duration": 605,
    "start_time": "2023-12-06T08:01:22.326Z"
   },
   {
    "duration": 520,
    "start_time": "2023-12-06T08:01:22.932Z"
   },
   {
    "duration": 33,
    "start_time": "2023-12-06T08:01:23.453Z"
   },
   {
    "duration": 28,
    "start_time": "2023-12-06T08:01:23.488Z"
   },
   {
    "duration": 3,
    "start_time": "2023-12-06T08:01:23.518Z"
   },
   {
    "duration": 1771,
    "start_time": "2023-12-06T08:14:41.318Z"
   },
   {
    "duration": 6,
    "start_time": "2023-12-06T08:23:42.789Z"
   },
   {
    "duration": 9,
    "start_time": "2023-12-06T08:23:56.490Z"
   },
   {
    "duration": 12,
    "start_time": "2023-12-06T08:25:43.812Z"
   },
   {
    "duration": 10,
    "start_time": "2023-12-06T08:25:50.628Z"
   },
   {
    "duration": 34,
    "start_time": "2023-12-06T08:31:11.564Z"
   },
   {
    "duration": 57,
    "start_time": "2023-12-06T08:32:21.878Z"
   },
   {
    "duration": 132,
    "start_time": "2023-12-06T08:32:43.089Z"
   },
   {
    "duration": 59,
    "start_time": "2023-12-06T08:32:49.742Z"
   },
   {
    "duration": 34,
    "start_time": "2023-12-06T08:40:21.080Z"
   },
   {
    "duration": 36,
    "start_time": "2023-12-06T08:40:30.513Z"
   },
   {
    "duration": 26,
    "start_time": "2023-12-06T08:40:42.004Z"
   },
   {
    "duration": 87,
    "start_time": "2023-12-06T08:40:52.793Z"
   },
   {
    "duration": 31,
    "start_time": "2023-12-06T08:41:31.388Z"
   },
   {
    "duration": 28,
    "start_time": "2023-12-06T08:43:29.785Z"
   },
   {
    "duration": 31,
    "start_time": "2023-12-06T08:45:33.456Z"
   },
   {
    "duration": 32,
    "start_time": "2023-12-06T08:57:23.346Z"
   },
   {
    "duration": 28,
    "start_time": "2023-12-06T08:57:35.046Z"
   },
   {
    "duration": 33,
    "start_time": "2023-12-06T08:57:45.043Z"
   },
   {
    "duration": 82,
    "start_time": "2023-12-06T08:58:07.154Z"
   },
   {
    "duration": 29,
    "start_time": "2023-12-06T09:01:31.536Z"
   },
   {
    "duration": 26,
    "start_time": "2023-12-06T09:16:02.828Z"
   },
   {
    "duration": 25,
    "start_time": "2023-12-06T09:17:33.608Z"
   },
   {
    "duration": 26,
    "start_time": "2023-12-06T09:30:17.956Z"
   },
   {
    "duration": 1853,
    "start_time": "2023-12-06T09:34:29.030Z"
   },
   {
    "duration": 1246,
    "start_time": "2023-12-06T09:35:47.701Z"
   },
   {
    "duration": 26,
    "start_time": "2023-12-06T09:36:41.527Z"
   },
   {
    "duration": 27,
    "start_time": "2023-12-06T09:37:50.050Z"
   },
   {
    "duration": 26,
    "start_time": "2023-12-06T09:37:54.838Z"
   },
   {
    "duration": 26,
    "start_time": "2023-12-06T09:37:57.849Z"
   },
   {
    "duration": 87,
    "start_time": "2023-12-06T09:38:14.209Z"
   },
   {
    "duration": 27,
    "start_time": "2023-12-06T09:38:24.539Z"
   },
   {
    "duration": 29,
    "start_time": "2023-12-06T09:41:11.440Z"
   },
   {
    "duration": 27,
    "start_time": "2023-12-06T09:41:51.919Z"
   },
   {
    "duration": 23,
    "start_time": "2023-12-06T09:42:08.862Z"
   },
   {
    "duration": 22,
    "start_time": "2023-12-06T09:42:14.182Z"
   },
   {
    "duration": 38,
    "start_time": "2023-12-06T09:42:18.263Z"
   },
   {
    "duration": 26,
    "start_time": "2023-12-06T09:42:25.267Z"
   },
   {
    "duration": 26,
    "start_time": "2023-12-06T09:43:01.071Z"
   },
   {
    "duration": 14,
    "start_time": "2023-12-06T09:45:02.517Z"
   },
   {
    "duration": 14,
    "start_time": "2023-12-06T09:45:13.984Z"
   },
   {
    "duration": 26,
    "start_time": "2023-12-06T09:45:22.902Z"
   },
   {
    "duration": 11,
    "start_time": "2023-12-06T09:45:43.608Z"
   },
   {
    "duration": 5,
    "start_time": "2023-12-06T09:46:00.253Z"
   },
   {
    "duration": 26,
    "start_time": "2023-12-06T09:46:07.528Z"
   },
   {
    "duration": 10,
    "start_time": "2023-12-06T09:46:35.366Z"
   },
   {
    "duration": 11,
    "start_time": "2023-12-06T09:48:51.781Z"
   },
   {
    "duration": 15,
    "start_time": "2023-12-06T09:49:00.916Z"
   },
   {
    "duration": 26,
    "start_time": "2023-12-06T09:49:41.970Z"
   },
   {
    "duration": 28,
    "start_time": "2023-12-06T09:49:53.930Z"
   },
   {
    "duration": 10,
    "start_time": "2023-12-06T09:57:09.860Z"
   },
   {
    "duration": 16,
    "start_time": "2023-12-06T09:57:19.663Z"
   },
   {
    "duration": 18,
    "start_time": "2023-12-06T09:58:03.859Z"
   },
   {
    "duration": 15,
    "start_time": "2023-12-06T09:58:09.227Z"
   },
   {
    "duration": 14,
    "start_time": "2023-12-06T09:58:16.994Z"
   },
   {
    "duration": 28,
    "start_time": "2023-12-06T09:59:04.001Z"
   },
   {
    "duration": 15,
    "start_time": "2023-12-06T09:59:26.209Z"
   },
   {
    "duration": 24,
    "start_time": "2023-12-06T10:00:48.276Z"
   },
   {
    "duration": 28,
    "start_time": "2023-12-06T10:06:58.030Z"
   },
   {
    "duration": 12,
    "start_time": "2023-12-06T10:07:21.064Z"
   },
   {
    "duration": 6,
    "start_time": "2023-12-06T10:07:32.680Z"
   },
   {
    "duration": 11,
    "start_time": "2023-12-06T10:07:45.809Z"
   },
   {
    "duration": 11,
    "start_time": "2023-12-06T10:07:56.928Z"
   },
   {
    "duration": 11,
    "start_time": "2023-12-06T10:08:15.520Z"
   },
   {
    "duration": 29,
    "start_time": "2023-12-06T10:08:22.426Z"
   },
   {
    "duration": 29,
    "start_time": "2023-12-06T10:08:33.679Z"
   },
   {
    "duration": 27,
    "start_time": "2023-12-06T10:09:09.456Z"
   },
   {
    "duration": 10,
    "start_time": "2023-12-06T10:09:17.213Z"
   },
   {
    "duration": 12,
    "start_time": "2023-12-06T10:10:18.609Z"
   },
   {
    "duration": 12,
    "start_time": "2023-12-06T10:10:21.145Z"
   },
   {
    "duration": 13,
    "start_time": "2023-12-06T10:10:22.723Z"
   },
   {
    "duration": 10,
    "start_time": "2023-12-06T10:14:03.267Z"
   },
   {
    "duration": 10,
    "start_time": "2023-12-06T10:16:01.028Z"
   },
   {
    "duration": 68,
    "start_time": "2023-12-06T10:16:55.645Z"
   },
   {
    "duration": 14,
    "start_time": "2023-12-06T10:17:07.098Z"
   },
   {
    "duration": 31,
    "start_time": "2023-12-06T10:17:12.327Z"
   },
   {
    "duration": 10,
    "start_time": "2023-12-06T10:18:03.097Z"
   },
   {
    "duration": 9,
    "start_time": "2023-12-06T10:18:20.404Z"
   },
   {
    "duration": 6,
    "start_time": "2023-12-06T10:18:26.760Z"
   },
   {
    "duration": 11,
    "start_time": "2023-12-06T10:19:00.080Z"
   },
   {
    "duration": 11,
    "start_time": "2023-12-06T10:19:13.542Z"
   },
   {
    "duration": 13,
    "start_time": "2023-12-06T10:19:49.739Z"
   },
   {
    "duration": 11,
    "start_time": "2023-12-06T10:19:52.479Z"
   },
   {
    "duration": 29,
    "start_time": "2023-12-06T10:20:06.694Z"
   },
   {
    "duration": 29,
    "start_time": "2023-12-06T10:21:36.697Z"
   },
   {
    "duration": 15,
    "start_time": "2023-12-06T10:21:59.870Z"
   },
   {
    "duration": 1063,
    "start_time": "2023-12-06T10:22:41.267Z"
   },
   {
    "duration": 15,
    "start_time": "2023-12-06T10:23:08.259Z"
   },
   {
    "duration": 13,
    "start_time": "2023-12-06T10:23:20.655Z"
   },
   {
    "duration": 9,
    "start_time": "2023-12-06T10:23:24.736Z"
   },
   {
    "duration": 13,
    "start_time": "2023-12-06T10:23:29.518Z"
   },
   {
    "duration": 1023,
    "start_time": "2023-12-06T10:24:43.962Z"
   },
   {
    "duration": 14,
    "start_time": "2023-12-06T10:26:11.835Z"
   },
   {
    "duration": 13,
    "start_time": "2023-12-06T10:26:16.467Z"
   },
   {
    "duration": 14,
    "start_time": "2023-12-06T10:26:32.347Z"
   },
   {
    "duration": 14,
    "start_time": "2023-12-06T10:26:46.935Z"
   },
   {
    "duration": 3138,
    "start_time": "2023-12-06T11:51:47.827Z"
   },
   {
    "duration": 1369,
    "start_time": "2023-12-06T11:51:50.968Z"
   },
   {
    "duration": 89,
    "start_time": "2023-12-06T11:51:52.339Z"
   },
   {
    "duration": 81,
    "start_time": "2023-12-06T11:51:52.430Z"
   },
   {
    "duration": 61,
    "start_time": "2023-12-06T11:51:52.514Z"
   },
   {
    "duration": 9,
    "start_time": "2023-12-06T11:51:52.576Z"
   },
   {
    "duration": 9,
    "start_time": "2023-12-06T11:51:52.586Z"
   },
   {
    "duration": 863,
    "start_time": "2023-12-06T11:51:52.596Z"
   },
   {
    "duration": 22,
    "start_time": "2023-12-06T11:51:53.461Z"
   },
   {
    "duration": 5,
    "start_time": "2023-12-06T11:51:53.484Z"
   },
   {
    "duration": 14,
    "start_time": "2023-12-06T11:51:53.490Z"
   },
   {
    "duration": 8,
    "start_time": "2023-12-06T11:51:53.505Z"
   },
   {
    "duration": 150,
    "start_time": "2023-12-06T11:51:53.514Z"
   },
   {
    "duration": 83,
    "start_time": "2023-12-06T11:51:53.666Z"
   },
   {
    "duration": 175,
    "start_time": "2023-12-06T11:51:53.751Z"
   },
   {
    "duration": 301,
    "start_time": "2023-12-06T11:51:53.927Z"
   },
   {
    "duration": 369,
    "start_time": "2023-12-06T11:51:54.230Z"
   },
   {
    "duration": 22,
    "start_time": "2023-12-06T11:51:54.600Z"
   },
   {
    "duration": 27,
    "start_time": "2023-12-06T11:51:54.624Z"
   },
   {
    "duration": 498,
    "start_time": "2023-12-06T11:51:54.653Z"
   },
   {
    "duration": 513,
    "start_time": "2023-12-06T11:51:55.153Z"
   },
   {
    "duration": 32,
    "start_time": "2023-12-06T11:51:55.668Z"
   },
   {
    "duration": 25,
    "start_time": "2023-12-06T11:51:55.702Z"
   },
   {
    "duration": 4,
    "start_time": "2023-12-06T11:51:55.728Z"
   },
   {
    "duration": 51,
    "start_time": "2023-12-06T11:51:55.733Z"
   },
   {
    "duration": 17,
    "start_time": "2023-12-06T11:52:05.763Z"
   },
   {
    "duration": 19,
    "start_time": "2023-12-06T11:52:48.793Z"
   },
   {
    "duration": 76,
    "start_time": "2023-12-06T11:56:03.111Z"
   },
   {
    "duration": 21,
    "start_time": "2023-12-06T11:56:12.335Z"
   },
   {
    "duration": 15,
    "start_time": "2023-12-06T11:56:52.589Z"
   },
   {
    "duration": 14,
    "start_time": "2023-12-06T11:57:01.248Z"
   },
   {
    "duration": 114,
    "start_time": "2023-12-06T11:57:27.350Z"
   },
   {
    "duration": 31,
    "start_time": "2023-12-06T11:58:22.498Z"
   },
   {
    "duration": 16,
    "start_time": "2023-12-06T11:58:33.952Z"
   },
   {
    "duration": 22,
    "start_time": "2023-12-06T12:00:54.184Z"
   },
   {
    "duration": 27,
    "start_time": "2023-12-06T12:01:27.751Z"
   },
   {
    "duration": 1262,
    "start_time": "2023-12-06T12:01:43.922Z"
   },
   {
    "duration": 13,
    "start_time": "2023-12-06T12:02:01.131Z"
   },
   {
    "duration": 23,
    "start_time": "2023-12-06T12:02:06.457Z"
   },
   {
    "duration": 20,
    "start_time": "2023-12-06T12:02:37.862Z"
   },
   {
    "duration": 21,
    "start_time": "2023-12-06T12:02:43.379Z"
   },
   {
    "duration": 15,
    "start_time": "2023-12-06T12:03:03.058Z"
   },
   {
    "duration": 28,
    "start_time": "2023-12-06T12:03:21.426Z"
   },
   {
    "duration": 840,
    "start_time": "2023-12-06T12:07:09.923Z"
   },
   {
    "duration": 807,
    "start_time": "2023-12-06T12:07:38.393Z"
   },
   {
    "duration": 9,
    "start_time": "2023-12-06T12:07:54.714Z"
   },
   {
    "duration": 783,
    "start_time": "2023-12-06T12:08:08.201Z"
   },
   {
    "duration": 77,
    "start_time": "2023-12-06T12:09:56.097Z"
   },
   {
    "duration": 10,
    "start_time": "2023-12-06T12:10:02.875Z"
   },
   {
    "duration": 11,
    "start_time": "2023-12-06T12:10:24.429Z"
   },
   {
    "duration": 100,
    "start_time": "2023-12-06T12:10:42.220Z"
   },
   {
    "duration": 18,
    "start_time": "2023-12-06T12:10:55.161Z"
   },
   {
    "duration": 8,
    "start_time": "2023-12-06T12:11:13.421Z"
   },
   {
    "duration": 16,
    "start_time": "2023-12-06T12:11:43.093Z"
   },
   {
    "duration": 16,
    "start_time": "2023-12-06T12:12:31.300Z"
   },
   {
    "duration": 794,
    "start_time": "2023-12-06T12:12:56.406Z"
   },
   {
    "duration": 11,
    "start_time": "2023-12-06T12:13:15.951Z"
   },
   {
    "duration": 9,
    "start_time": "2023-12-06T12:14:22.371Z"
   },
   {
    "duration": 9,
    "start_time": "2023-12-06T12:14:45.343Z"
   },
   {
    "duration": 9,
    "start_time": "2023-12-06T12:15:00.570Z"
   },
   {
    "duration": 783,
    "start_time": "2023-12-06T12:15:08.766Z"
   },
   {
    "duration": 777,
    "start_time": "2023-12-06T12:15:35.199Z"
   },
   {
    "duration": 843,
    "start_time": "2023-12-06T12:17:05.939Z"
   },
   {
    "duration": 843,
    "start_time": "2023-12-06T12:17:22.841Z"
   },
   {
    "duration": 4,
    "start_time": "2023-12-06T12:19:52.306Z"
   },
   {
    "duration": 109,
    "start_time": "2023-12-06T12:20:03.196Z"
   },
   {
    "duration": 69,
    "start_time": "2023-12-06T12:20:35.535Z"
   },
   {
    "duration": 26,
    "start_time": "2023-12-06T12:20:54.547Z"
   },
   {
    "duration": 30,
    "start_time": "2023-12-06T12:21:02.401Z"
   },
   {
    "duration": 36,
    "start_time": "2023-12-06T12:21:18.216Z"
   },
   {
    "duration": 148,
    "start_time": "2023-12-06T12:22:09.515Z"
   },
   {
    "duration": 796,
    "start_time": "2023-12-06T12:22:39.654Z"
   },
   {
    "duration": 26,
    "start_time": "2023-12-06T12:23:08.417Z"
   },
   {
    "duration": 139,
    "start_time": "2023-12-06T12:23:28.283Z"
   },
   {
    "duration": 850,
    "start_time": "2023-12-06T12:25:21.575Z"
   },
   {
    "duration": 862,
    "start_time": "2023-12-06T12:57:41.405Z"
   },
   {
    "duration": 105,
    "start_time": "2023-12-06T12:58:41.385Z"
   },
   {
    "duration": 931,
    "start_time": "2023-12-06T12:58:49.458Z"
   },
   {
    "duration": 8,
    "start_time": "2023-12-06T13:02:06.998Z"
   },
   {
    "duration": 850,
    "start_time": "2023-12-06T13:14:42.277Z"
   },
   {
    "duration": 129,
    "start_time": "2023-12-06T13:46:47.671Z"
   },
   {
    "duration": 124,
    "start_time": "2023-12-06T13:47:19.577Z"
   },
   {
    "duration": 118,
    "start_time": "2023-12-06T14:03:03.312Z"
   },
   {
    "duration": 131,
    "start_time": "2023-12-06T14:03:08.961Z"
   },
   {
    "duration": 126,
    "start_time": "2023-12-06T14:03:13.488Z"
   },
   {
    "duration": 134,
    "start_time": "2023-12-06T14:03:41.408Z"
   },
   {
    "duration": 816,
    "start_time": "2023-12-06T14:09:01.355Z"
   },
   {
    "duration": 118,
    "start_time": "2023-12-06T14:10:01.026Z"
   },
   {
    "duration": 120,
    "start_time": "2023-12-06T14:10:23.151Z"
   },
   {
    "duration": 155,
    "start_time": "2023-12-06T14:10:53.375Z"
   },
   {
    "duration": 40,
    "start_time": "2023-12-06T14:16:54.831Z"
   },
   {
    "duration": 26,
    "start_time": "2023-12-06T14:17:43.274Z"
   },
   {
    "duration": 14,
    "start_time": "2023-12-06T14:18:09.237Z"
   },
   {
    "duration": 9,
    "start_time": "2023-12-06T14:19:11.434Z"
   },
   {
    "duration": 12,
    "start_time": "2023-12-06T14:19:17.476Z"
   },
   {
    "duration": 1388,
    "start_time": "2023-12-06T14:19:26.134Z"
   },
   {
    "duration": 1524,
    "start_time": "2023-12-06T14:19:41.326Z"
   },
   {
    "duration": 21,
    "start_time": "2023-12-06T14:20:08.818Z"
   },
   {
    "duration": 23,
    "start_time": "2023-12-06T14:20:24.002Z"
   },
   {
    "duration": 13,
    "start_time": "2023-12-06T14:21:50.927Z"
   },
   {
    "duration": 14,
    "start_time": "2023-12-06T14:22:00.314Z"
   },
   {
    "duration": 11,
    "start_time": "2023-12-06T14:22:41.093Z"
   },
   {
    "duration": 12,
    "start_time": "2023-12-06T14:23:16.303Z"
   },
   {
    "duration": 15,
    "start_time": "2023-12-06T14:24:25.331Z"
   },
   {
    "duration": 10,
    "start_time": "2023-12-06T14:24:42.746Z"
   },
   {
    "duration": 11,
    "start_time": "2023-12-06T14:26:26.054Z"
   },
   {
    "duration": 10,
    "start_time": "2023-12-06T14:26:38.998Z"
   },
   {
    "duration": 12,
    "start_time": "2023-12-06T14:29:46.220Z"
   },
   {
    "duration": 18,
    "start_time": "2023-12-06T14:31:00.081Z"
   },
   {
    "duration": 10,
    "start_time": "2023-12-06T14:31:15.097Z"
   },
   {
    "duration": 151,
    "start_time": "2023-12-06T14:39:33.560Z"
   },
   {
    "duration": 236,
    "start_time": "2023-12-06T14:41:00.654Z"
   },
   {
    "duration": 98,
    "start_time": "2023-12-06T14:41:37.533Z"
   },
   {
    "duration": 178,
    "start_time": "2023-12-06T14:41:44.026Z"
   },
   {
    "duration": 198,
    "start_time": "2023-12-06T14:42:55.222Z"
   },
   {
    "duration": 173,
    "start_time": "2023-12-06T14:43:05.498Z"
   },
   {
    "duration": 155,
    "start_time": "2023-12-06T14:43:12.305Z"
   },
   {
    "duration": 173,
    "start_time": "2023-12-06T14:43:18.676Z"
   },
   {
    "duration": 132,
    "start_time": "2023-12-06T14:46:42.529Z"
   },
   {
    "duration": 184,
    "start_time": "2023-12-06T14:49:43.633Z"
   },
   {
    "duration": 170,
    "start_time": "2023-12-06T14:49:56.008Z"
   },
   {
    "duration": 147,
    "start_time": "2023-12-06T14:53:31.059Z"
   },
   {
    "duration": 11,
    "start_time": "2023-12-06T15:37:22.657Z"
   },
   {
    "duration": 3,
    "start_time": "2023-12-06T15:38:29.585Z"
   },
   {
    "duration": 15,
    "start_time": "2023-12-06T15:38:51.068Z"
   },
   {
    "duration": 6,
    "start_time": "2023-12-06T15:39:00.454Z"
   },
   {
    "duration": 6,
    "start_time": "2023-12-06T15:41:22.275Z"
   },
   {
    "duration": 3414,
    "start_time": "2023-12-06T18:27:36.935Z"
   },
   {
    "duration": 1297,
    "start_time": "2023-12-06T18:27:40.352Z"
   },
   {
    "duration": 89,
    "start_time": "2023-12-06T18:27:41.651Z"
   },
   {
    "duration": 79,
    "start_time": "2023-12-06T18:27:41.742Z"
   },
   {
    "duration": 61,
    "start_time": "2023-12-06T18:27:41.823Z"
   },
   {
    "duration": 8,
    "start_time": "2023-12-06T18:27:41.886Z"
   },
   {
    "duration": 8,
    "start_time": "2023-12-06T18:27:41.895Z"
   },
   {
    "duration": 937,
    "start_time": "2023-12-06T18:27:41.904Z"
   },
   {
    "duration": 9,
    "start_time": "2023-12-06T18:27:42.843Z"
   },
   {
    "duration": 65,
    "start_time": "2023-12-06T18:27:42.853Z"
   },
   {
    "duration": 39,
    "start_time": "2023-12-06T18:27:42.919Z"
   },
   {
    "duration": 28,
    "start_time": "2023-12-06T18:27:42.960Z"
   },
   {
    "duration": 135,
    "start_time": "2023-12-06T18:27:42.989Z"
   },
   {
    "duration": 83,
    "start_time": "2023-12-06T18:27:43.126Z"
   },
   {
    "duration": 178,
    "start_time": "2023-12-06T18:27:43.211Z"
   },
   {
    "duration": 300,
    "start_time": "2023-12-06T18:27:43.391Z"
   },
   {
    "duration": 331,
    "start_time": "2023-12-06T18:27:43.693Z"
   },
   {
    "duration": 33,
    "start_time": "2023-12-06T18:27:44.026Z"
   },
   {
    "duration": 17,
    "start_time": "2023-12-06T18:27:44.070Z"
   },
   {
    "duration": 450,
    "start_time": "2023-12-06T18:27:44.089Z"
   },
   {
    "duration": 422,
    "start_time": "2023-12-06T18:27:44.540Z"
   },
   {
    "duration": 25,
    "start_time": "2023-12-06T18:27:44.969Z"
   },
   {
    "duration": 23,
    "start_time": "2023-12-06T18:27:44.996Z"
   },
   {
    "duration": 130,
    "start_time": "2023-12-06T18:27:45.021Z"
   },
   {
    "duration": 936,
    "start_time": "2023-12-06T18:27:45.153Z"
   },
   {
    "duration": 130,
    "start_time": "2023-12-06T18:27:46.090Z"
   },
   {
    "duration": 10,
    "start_time": "2023-12-06T18:27:46.222Z"
   },
   {
    "duration": 168,
    "start_time": "2023-12-06T18:27:46.233Z"
   },
   {
    "duration": 167,
    "start_time": "2023-12-06T18:28:35.732Z"
   },
   {
    "duration": 237,
    "start_time": "2023-12-06T18:29:14.190Z"
   },
   {
    "duration": 116,
    "start_time": "2023-12-06T18:33:32.712Z"
   },
   {
    "duration": 76,
    "start_time": "2023-12-06T19:00:35.694Z"
   },
   {
    "duration": 6,
    "start_time": "2023-12-06T19:04:29.730Z"
   },
   {
    "duration": 5,
    "start_time": "2023-12-06T19:12:03.824Z"
   },
   {
    "duration": 5,
    "start_time": "2023-12-06T19:36:04.620Z"
   },
   {
    "duration": 5,
    "start_time": "2023-12-06T19:37:11.739Z"
   },
   {
    "duration": 4,
    "start_time": "2023-12-06T19:37:21.216Z"
   },
   {
    "duration": 5,
    "start_time": "2023-12-06T20:13:00.996Z"
   },
   {
    "duration": 5,
    "start_time": "2023-12-06T20:15:14.091Z"
   },
   {
    "duration": 5,
    "start_time": "2023-12-06T20:18:33.326Z"
   },
   {
    "duration": 10,
    "start_time": "2023-12-06T20:21:30.659Z"
   },
   {
    "duration": 3067,
    "start_time": "2023-12-07T06:21:59.862Z"
   },
   {
    "duration": 1329,
    "start_time": "2023-12-07T06:22:02.931Z"
   },
   {
    "duration": 101,
    "start_time": "2023-12-07T06:22:04.262Z"
   },
   {
    "duration": 167,
    "start_time": "2023-12-07T06:22:04.365Z"
   },
   {
    "duration": 65,
    "start_time": "2023-12-07T06:22:04.534Z"
   },
   {
    "duration": 9,
    "start_time": "2023-12-07T06:22:04.600Z"
   },
   {
    "duration": 38,
    "start_time": "2023-12-07T06:22:04.611Z"
   },
   {
    "duration": 847,
    "start_time": "2023-12-07T06:22:04.651Z"
   },
   {
    "duration": 7,
    "start_time": "2023-12-07T06:22:05.499Z"
   },
   {
    "duration": 22,
    "start_time": "2023-12-07T06:22:05.508Z"
   },
   {
    "duration": 30,
    "start_time": "2023-12-07T06:22:05.532Z"
   },
   {
    "duration": 15,
    "start_time": "2023-12-07T06:22:05.564Z"
   },
   {
    "duration": 132,
    "start_time": "2023-12-07T06:22:05.581Z"
   },
   {
    "duration": 88,
    "start_time": "2023-12-07T06:22:05.716Z"
   },
   {
    "duration": 178,
    "start_time": "2023-12-07T06:22:05.806Z"
   },
   {
    "duration": 315,
    "start_time": "2023-12-07T06:22:05.986Z"
   },
   {
    "duration": 389,
    "start_time": "2023-12-07T06:22:06.303Z"
   },
   {
    "duration": 22,
    "start_time": "2023-12-07T06:22:06.694Z"
   },
   {
    "duration": 26,
    "start_time": "2023-12-07T06:22:06.730Z"
   },
   {
    "duration": 496,
    "start_time": "2023-12-07T06:22:06.757Z"
   },
   {
    "duration": 513,
    "start_time": "2023-12-07T06:22:07.255Z"
   },
   {
    "duration": 31,
    "start_time": "2023-12-07T06:22:07.770Z"
   },
   {
    "duration": 43,
    "start_time": "2023-12-07T06:22:07.802Z"
   },
   {
    "duration": 4,
    "start_time": "2023-12-07T06:22:07.847Z"
   },
   {
    "duration": 843,
    "start_time": "2023-12-07T06:22:07.853Z"
   },
   {
    "duration": 150,
    "start_time": "2023-12-07T06:22:08.698Z"
   },
   {
    "duration": 11,
    "start_time": "2023-12-07T06:22:08.850Z"
   },
   {
    "duration": 186,
    "start_time": "2023-12-07T06:22:08.863Z"
   },
   {
    "duration": 6,
    "start_time": "2023-12-07T06:22:09.051Z"
   },
   {
    "duration": 26,
    "start_time": "2023-12-07T06:22:09.058Z"
   },
   {
    "duration": 7,
    "start_time": "2023-12-07T06:24:58.466Z"
   },
   {
    "duration": 21,
    "start_time": "2023-12-07T06:25:00.833Z"
   },
   {
    "duration": 193,
    "start_time": "2023-12-07T06:28:05.442Z"
   },
   {
    "duration": 355,
    "start_time": "2023-12-07T06:28:36.885Z"
   },
   {
    "duration": 201,
    "start_time": "2023-12-07T06:33:58.818Z"
   },
   {
    "duration": 197,
    "start_time": "2023-12-07T06:34:12.257Z"
   },
   {
    "duration": 241,
    "start_time": "2023-12-07T06:34:31.213Z"
   },
   {
    "duration": 249,
    "start_time": "2023-12-07T06:34:47.684Z"
   },
   {
    "duration": 205,
    "start_time": "2023-12-07T06:35:55.285Z"
   },
   {
    "duration": 211,
    "start_time": "2023-12-07T06:36:01.692Z"
   },
   {
    "duration": 272,
    "start_time": "2023-12-07T06:39:38.729Z"
   },
   {
    "duration": 3187,
    "start_time": "2023-12-07T06:43:20.846Z"
   },
   {
    "duration": 3191,
    "start_time": "2023-12-07T06:45:02.702Z"
   },
   {
    "duration": 3218,
    "start_time": "2023-12-07T06:50:02.041Z"
   },
   {
    "duration": 272,
    "start_time": "2023-12-07T06:50:10.017Z"
   },
   {
    "duration": 367,
    "start_time": "2023-12-07T06:51:20.627Z"
   },
   {
    "duration": 291,
    "start_time": "2023-12-07T06:51:35.981Z"
   },
   {
    "duration": 275,
    "start_time": "2023-12-07T06:51:48.246Z"
   },
   {
    "duration": 315,
    "start_time": "2023-12-07T06:52:18.275Z"
   },
   {
    "duration": 340,
    "start_time": "2023-12-07T06:52:30.937Z"
   },
   {
    "duration": 443,
    "start_time": "2023-12-07T06:52:51.089Z"
   },
   {
    "duration": 3385,
    "start_time": "2023-12-07T09:30:21.972Z"
   },
   {
    "duration": 1286,
    "start_time": "2023-12-07T09:30:25.359Z"
   },
   {
    "duration": 89,
    "start_time": "2023-12-07T09:30:26.647Z"
   },
   {
    "duration": 81,
    "start_time": "2023-12-07T09:30:26.737Z"
   },
   {
    "duration": 64,
    "start_time": "2023-12-07T09:30:26.820Z"
   },
   {
    "duration": 10,
    "start_time": "2023-12-07T09:30:26.892Z"
   },
   {
    "duration": 16,
    "start_time": "2023-12-07T09:30:26.903Z"
   },
   {
    "duration": 848,
    "start_time": "2023-12-07T09:30:26.920Z"
   },
   {
    "duration": 25,
    "start_time": "2023-12-07T09:30:27.769Z"
   },
   {
    "duration": 6,
    "start_time": "2023-12-07T09:30:27.795Z"
   },
   {
    "duration": 18,
    "start_time": "2023-12-07T09:30:27.802Z"
   },
   {
    "duration": 7,
    "start_time": "2023-12-07T09:30:27.821Z"
   },
   {
    "duration": 149,
    "start_time": "2023-12-07T09:30:27.829Z"
   },
   {
    "duration": 78,
    "start_time": "2023-12-07T09:30:27.981Z"
   },
   {
    "duration": 187,
    "start_time": "2023-12-07T09:30:28.061Z"
   },
   {
    "duration": 314,
    "start_time": "2023-12-07T09:30:28.250Z"
   },
   {
    "duration": 379,
    "start_time": "2023-12-07T09:30:28.566Z"
   },
   {
    "duration": 23,
    "start_time": "2023-12-07T09:30:28.946Z"
   },
   {
    "duration": 28,
    "start_time": "2023-12-07T09:30:28.970Z"
   },
   {
    "duration": 515,
    "start_time": "2023-12-07T09:30:29.000Z"
   },
   {
    "duration": 604,
    "start_time": "2023-12-07T09:30:29.516Z"
   },
   {
    "duration": 30,
    "start_time": "2023-12-07T09:30:30.122Z"
   },
   {
    "duration": 46,
    "start_time": "2023-12-07T09:30:30.153Z"
   },
   {
    "duration": 5,
    "start_time": "2023-12-07T09:30:30.201Z"
   },
   {
    "duration": 1001,
    "start_time": "2023-12-07T09:30:30.208Z"
   },
   {
    "duration": 158,
    "start_time": "2023-12-07T09:30:31.211Z"
   },
   {
    "duration": 24,
    "start_time": "2023-12-07T09:30:31.371Z"
   },
   {
    "duration": 208,
    "start_time": "2023-12-07T09:30:31.397Z"
   },
   {
    "duration": 402,
    "start_time": "2023-12-07T09:30:31.607Z"
   },
   {
    "duration": 6,
    "start_time": "2023-12-07T09:30:32.010Z"
   },
   {
    "duration": 32,
    "start_time": "2023-12-07T09:30:32.018Z"
   },
   {
    "duration": 23,
    "start_time": "2023-12-07T09:30:32.052Z"
   },
   {
    "duration": 2631,
    "start_time": "2023-12-07T10:12:50.794Z"
   },
   {
    "duration": 4,
    "start_time": "2023-12-07T10:12:54.801Z"
   },
   {
    "duration": 152,
    "start_time": "2023-12-07T10:14:49.946Z"
   },
   {
    "duration": 5,
    "start_time": "2023-12-07T10:25:08.692Z"
   },
   {
    "duration": 5,
    "start_time": "2023-12-07T10:25:29.710Z"
   },
   {
    "duration": 6,
    "start_time": "2023-12-07T10:25:48.080Z"
   },
   {
    "duration": 5,
    "start_time": "2023-12-07T10:56:22.705Z"
   },
   {
    "duration": 103,
    "start_time": "2023-12-07T10:58:01.008Z"
   },
   {
    "duration": 182,
    "start_time": "2023-12-07T10:58:13.631Z"
   },
   {
    "duration": 230,
    "start_time": "2023-12-07T10:58:27.318Z"
   },
   {
    "duration": 126,
    "start_time": "2023-12-07T10:59:23.495Z"
   },
   {
    "duration": 229,
    "start_time": "2023-12-07T11:03:27.077Z"
   },
   {
    "duration": 5,
    "start_time": "2023-12-07T11:04:23.593Z"
   },
   {
    "duration": 6,
    "start_time": "2023-12-07T11:05:13.266Z"
   },
   {
    "duration": 12,
    "start_time": "2023-12-07T11:06:38.430Z"
   },
   {
    "duration": 152,
    "start_time": "2023-12-07T11:06:45.841Z"
   },
   {
    "duration": 201,
    "start_time": "2023-12-07T11:06:55.274Z"
   },
   {
    "duration": 108,
    "start_time": "2023-12-07T11:07:18.196Z"
   },
   {
    "duration": 147,
    "start_time": "2023-12-07T11:07:24.270Z"
   },
   {
    "duration": 5,
    "start_time": "2023-12-07T11:21:37.967Z"
   },
   {
    "duration": 14859,
    "start_time": "2023-12-07T11:27:24.059Z"
   },
   {
    "duration": 116,
    "start_time": "2023-12-07T11:29:03.258Z"
   },
   {
    "duration": 95,
    "start_time": "2023-12-07T11:33:23.518Z"
   },
   {
    "duration": 139,
    "start_time": "2023-12-07T11:33:32.452Z"
   },
   {
    "duration": 217,
    "start_time": "2023-12-07T11:37:33.993Z"
   },
   {
    "duration": 107,
    "start_time": "2023-12-07T11:40:07.192Z"
   },
   {
    "duration": 5,
    "start_time": "2023-12-07T11:40:19.535Z"
   },
   {
    "duration": 10,
    "start_time": "2023-12-07T12:01:55.181Z"
   },
   {
    "duration": 5,
    "start_time": "2023-12-07T12:02:05.929Z"
   },
   {
    "duration": 82,
    "start_time": "2023-12-07T12:03:11.557Z"
   },
   {
    "duration": 5,
    "start_time": "2023-12-07T12:05:55.013Z"
   },
   {
    "duration": 6,
    "start_time": "2023-12-07T12:06:02.918Z"
   },
   {
    "duration": 5,
    "start_time": "2023-12-07T12:06:08.454Z"
   },
   {
    "duration": 5,
    "start_time": "2023-12-07T12:06:17.921Z"
   },
   {
    "duration": 4,
    "start_time": "2023-12-07T12:08:16.105Z"
   },
   {
    "duration": 5,
    "start_time": "2023-12-07T12:11:51.966Z"
   },
   {
    "duration": 5,
    "start_time": "2023-12-07T12:14:52.862Z"
   },
   {
    "duration": 5,
    "start_time": "2023-12-07T12:17:20.653Z"
   },
   {
    "duration": 4,
    "start_time": "2023-12-07T12:17:25.365Z"
   },
   {
    "duration": 5,
    "start_time": "2023-12-07T12:17:33.792Z"
   },
   {
    "duration": 4,
    "start_time": "2023-12-07T12:18:18.046Z"
   },
   {
    "duration": 5,
    "start_time": "2023-12-07T12:18:29.168Z"
   },
   {
    "duration": 5,
    "start_time": "2023-12-07T12:18:49.365Z"
   },
   {
    "duration": 20,
    "start_time": "2023-12-07T12:24:12.779Z"
   },
   {
    "duration": 4,
    "start_time": "2023-12-07T12:25:08.215Z"
   },
   {
    "duration": 2467,
    "start_time": "2023-12-07T13:03:34.126Z"
   },
   {
    "duration": 1084,
    "start_time": "2023-12-07T13:03:36.596Z"
   },
   {
    "duration": 90,
    "start_time": "2023-12-07T13:03:37.681Z"
   },
   {
    "duration": 80,
    "start_time": "2023-12-07T13:03:37.772Z"
   },
   {
    "duration": 66,
    "start_time": "2023-12-07T13:03:37.854Z"
   },
   {
    "duration": 8,
    "start_time": "2023-12-07T13:03:37.921Z"
   },
   {
    "duration": 24,
    "start_time": "2023-12-07T13:03:37.931Z"
   },
   {
    "duration": 802,
    "start_time": "2023-12-07T13:03:37.957Z"
   },
   {
    "duration": 7,
    "start_time": "2023-12-07T13:03:38.760Z"
   },
   {
    "duration": 25,
    "start_time": "2023-12-07T13:03:38.768Z"
   },
   {
    "duration": 11,
    "start_time": "2023-12-07T13:03:38.795Z"
   },
   {
    "duration": 7,
    "start_time": "2023-12-07T13:03:38.808Z"
   },
   {
    "duration": 156,
    "start_time": "2023-12-07T13:03:38.816Z"
   },
   {
    "duration": 91,
    "start_time": "2023-12-07T13:03:38.975Z"
   },
   {
    "duration": 188,
    "start_time": "2023-12-07T13:03:39.067Z"
   },
   {
    "duration": 312,
    "start_time": "2023-12-07T13:03:39.256Z"
   },
   {
    "duration": 379,
    "start_time": "2023-12-07T13:03:39.570Z"
   },
   {
    "duration": 22,
    "start_time": "2023-12-07T13:03:39.951Z"
   },
   {
    "duration": 23,
    "start_time": "2023-12-07T13:03:39.974Z"
   },
   {
    "duration": 512,
    "start_time": "2023-12-07T13:03:39.999Z"
   },
   {
    "duration": 492,
    "start_time": "2023-12-07T13:03:40.512Z"
   },
   {
    "duration": 25,
    "start_time": "2023-12-07T13:03:41.005Z"
   },
   {
    "duration": 24,
    "start_time": "2023-12-07T13:03:41.032Z"
   },
   {
    "duration": 3,
    "start_time": "2023-12-07T13:03:41.057Z"
   },
   {
    "duration": 936,
    "start_time": "2023-12-07T13:03:41.081Z"
   },
   {
    "duration": 143,
    "start_time": "2023-12-07T13:03:42.018Z"
   },
   {
    "duration": 10,
    "start_time": "2023-12-07T13:03:42.163Z"
   },
   {
    "duration": 179,
    "start_time": "2023-12-07T13:03:42.185Z"
   },
   {
    "duration": 376,
    "start_time": "2023-12-07T13:03:42.366Z"
   },
   {
    "duration": 5,
    "start_time": "2023-12-07T13:03:42.743Z"
   },
   {
    "duration": 6,
    "start_time": "2023-12-07T13:03:42.749Z"
   },
   {
    "duration": 8,
    "start_time": "2023-12-07T13:03:42.756Z"
   },
   {
    "duration": 8,
    "start_time": "2023-12-07T13:16:04.679Z"
   },
   {
    "duration": 99,
    "start_time": "2023-12-07T13:16:20.876Z"
   },
   {
    "duration": 10,
    "start_time": "2023-12-07T13:16:57.292Z"
   },
   {
    "duration": 11,
    "start_time": "2023-12-07T13:18:43.693Z"
   },
   {
    "duration": 8,
    "start_time": "2023-12-07T13:18:53.271Z"
   },
   {
    "duration": 5,
    "start_time": "2023-12-07T13:19:39.554Z"
   },
   {
    "duration": 6,
    "start_time": "2023-12-07T13:19:56.622Z"
   },
   {
    "duration": 7,
    "start_time": "2023-12-07T13:22:29.592Z"
   },
   {
    "duration": 5,
    "start_time": "2023-12-07T13:38:17.861Z"
   },
   {
    "duration": 8,
    "start_time": "2023-12-07T13:38:25.647Z"
   },
   {
    "duration": 5,
    "start_time": "2023-12-07T13:38:46.153Z"
   },
   {
    "duration": 6,
    "start_time": "2023-12-07T13:38:54.555Z"
   },
   {
    "duration": 81,
    "start_time": "2023-12-07T13:48:17.197Z"
   },
   {
    "duration": 77,
    "start_time": "2023-12-07T13:49:17.950Z"
   },
   {
    "duration": 12,
    "start_time": "2023-12-07T13:49:28.652Z"
   },
   {
    "duration": 9,
    "start_time": "2023-12-07T13:50:38.961Z"
   },
   {
    "duration": 71,
    "start_time": "2023-12-07T14:11:17.551Z"
   },
   {
    "duration": 7,
    "start_time": "2023-12-07T14:11:38.781Z"
   },
   {
    "duration": 6,
    "start_time": "2023-12-07T15:02:34.690Z"
   },
   {
    "duration": 2428,
    "start_time": "2023-12-07T15:10:10.258Z"
   },
   {
    "duration": 4,
    "start_time": "2023-12-07T15:10:14.082Z"
   },
   {
    "duration": 2291,
    "start_time": "2023-12-07T15:22:55.781Z"
   },
   {
    "duration": 1128,
    "start_time": "2023-12-07T15:23:01.597Z"
   },
   {
    "duration": 5,
    "start_time": "2023-12-07T15:24:05.983Z"
   },
   {
    "duration": 5,
    "start_time": "2023-12-07T15:24:23.430Z"
   },
   {
    "duration": 5,
    "start_time": "2023-12-07T15:24:38.197Z"
   },
   {
    "duration": 4,
    "start_time": "2023-12-07T15:25:54.328Z"
   },
   {
    "duration": 5,
    "start_time": "2023-12-07T15:26:00.672Z"
   },
   {
    "duration": 5,
    "start_time": "2023-12-07T15:29:01.086Z"
   },
   {
    "duration": 5,
    "start_time": "2023-12-07T15:29:07.962Z"
   },
   {
    "duration": 5,
    "start_time": "2023-12-07T15:29:11.104Z"
   },
   {
    "duration": 6,
    "start_time": "2023-12-07T15:29:17.862Z"
   },
   {
    "duration": 5,
    "start_time": "2023-12-07T15:29:22.270Z"
   },
   {
    "duration": 90,
    "start_time": "2023-12-07T15:29:50.528Z"
   },
   {
    "duration": 6,
    "start_time": "2023-12-07T15:29:59.357Z"
   },
   {
    "duration": 5,
    "start_time": "2023-12-07T15:30:28.210Z"
   },
   {
    "duration": 4,
    "start_time": "2023-12-07T15:31:42.590Z"
   },
   {
    "duration": 5,
    "start_time": "2023-12-07T15:31:48.523Z"
   },
   {
    "duration": 5,
    "start_time": "2023-12-07T15:32:00.091Z"
   },
   {
    "duration": 4,
    "start_time": "2023-12-07T15:32:03.538Z"
   },
   {
    "duration": 5,
    "start_time": "2023-12-07T15:32:52.624Z"
   },
   {
    "duration": 4,
    "start_time": "2023-12-07T15:32:59.784Z"
   },
   {
    "duration": 4,
    "start_time": "2023-12-07T16:14:40.520Z"
   },
   {
    "duration": 133,
    "start_time": "2023-12-07T16:19:17.362Z"
   },
   {
    "duration": 117,
    "start_time": "2023-12-07T16:20:00.116Z"
   },
   {
    "duration": 225,
    "start_time": "2023-12-07T16:20:11.262Z"
   },
   {
    "duration": 233,
    "start_time": "2023-12-07T16:20:23.176Z"
   },
   {
    "duration": 45,
    "start_time": "2023-12-07T16:26:51.005Z"
   },
   {
    "duration": 1093,
    "start_time": "2023-12-07T16:27:02.695Z"
   },
   {
    "duration": 144,
    "start_time": "2023-12-07T16:27:12.217Z"
   },
   {
    "duration": 140,
    "start_time": "2023-12-07T16:29:46.376Z"
   },
   {
    "duration": 5,
    "start_time": "2023-12-07T16:36:23.300Z"
   },
   {
    "duration": 4,
    "start_time": "2023-12-07T16:36:29.615Z"
   },
   {
    "duration": 2299,
    "start_time": "2023-12-07T16:45:55.322Z"
   },
   {
    "duration": 4,
    "start_time": "2023-12-07T16:45:57.623Z"
   },
   {
    "duration": 96,
    "start_time": "2023-12-07T16:45:57.628Z"
   },
   {
    "duration": 78,
    "start_time": "2023-12-07T16:45:57.726Z"
   },
   {
    "duration": 63,
    "start_time": "2023-12-07T16:45:57.806Z"
   },
   {
    "duration": 8,
    "start_time": "2023-12-07T16:45:57.871Z"
   },
   {
    "duration": 10,
    "start_time": "2023-12-07T16:45:57.880Z"
   },
   {
    "duration": 857,
    "start_time": "2023-12-07T16:45:57.891Z"
   },
   {
    "duration": 7,
    "start_time": "2023-12-07T16:45:58.750Z"
   },
   {
    "duration": 6,
    "start_time": "2023-12-07T16:45:58.758Z"
   },
   {
    "duration": 33,
    "start_time": "2023-12-07T16:45:58.765Z"
   },
   {
    "duration": 7,
    "start_time": "2023-12-07T16:45:58.799Z"
   },
   {
    "duration": 129,
    "start_time": "2023-12-07T16:45:58.807Z"
   },
   {
    "duration": 85,
    "start_time": "2023-12-07T16:45:58.939Z"
   },
   {
    "duration": 173,
    "start_time": "2023-12-07T16:45:59.026Z"
   },
   {
    "duration": 367,
    "start_time": "2023-12-07T16:45:59.200Z"
   },
   {
    "duration": 283,
    "start_time": "2023-12-07T16:45:59.569Z"
   },
   {
    "duration": 35,
    "start_time": "2023-12-07T16:45:59.853Z"
   },
   {
    "duration": 10,
    "start_time": "2023-12-07T16:45:59.889Z"
   },
   {
    "duration": 485,
    "start_time": "2023-12-07T16:45:59.900Z"
   },
   {
    "duration": 489,
    "start_time": "2023-12-07T16:46:00.387Z"
   },
   {
    "duration": 29,
    "start_time": "2023-12-07T16:46:00.877Z"
   },
   {
    "duration": 55,
    "start_time": "2023-12-07T16:46:00.907Z"
   },
   {
    "duration": 14,
    "start_time": "2023-12-07T16:46:00.963Z"
   },
   {
    "duration": 942,
    "start_time": "2023-12-07T16:46:00.978Z"
   },
   {
    "duration": 134,
    "start_time": "2023-12-07T16:46:01.921Z"
   },
   {
    "duration": 9,
    "start_time": "2023-12-07T16:46:02.056Z"
   },
   {
    "duration": 216,
    "start_time": "2023-12-07T16:46:02.066Z"
   },
   {
    "duration": 292,
    "start_time": "2023-12-07T16:46:02.283Z"
   },
   {
    "duration": 8,
    "start_time": "2023-12-07T16:46:02.576Z"
   },
   {
    "duration": 15,
    "start_time": "2023-12-07T16:46:02.585Z"
   },
   {
    "duration": 50,
    "start_time": "2023-12-07T16:46:02.601Z"
   },
   {
    "duration": 11,
    "start_time": "2023-12-07T16:46:02.652Z"
   },
   {
    "duration": 119,
    "start_time": "2023-12-07T16:46:02.664Z"
   },
   {
    "duration": 5,
    "start_time": "2023-12-07T16:46:02.785Z"
   },
   {
    "duration": 3009,
    "start_time": "2023-12-07T16:54:07.582Z"
   },
   {
    "duration": 1078,
    "start_time": "2023-12-07T16:54:10.593Z"
   },
   {
    "duration": 42,
    "start_time": "2023-12-07T16:54:11.673Z"
   },
   {
    "duration": 39,
    "start_time": "2023-12-07T16:54:11.717Z"
   },
   {
    "duration": 25,
    "start_time": "2023-12-07T16:54:11.757Z"
   },
   {
    "duration": 9,
    "start_time": "2023-12-07T16:54:11.783Z"
   },
   {
    "duration": 11,
    "start_time": "2023-12-07T16:54:11.793Z"
   },
   {
    "duration": 778,
    "start_time": "2023-12-07T16:54:11.805Z"
   },
   {
    "duration": 7,
    "start_time": "2023-12-07T16:54:12.585Z"
   },
   {
    "duration": 5,
    "start_time": "2023-12-07T16:54:12.594Z"
   },
   {
    "duration": 13,
    "start_time": "2023-12-07T16:54:12.600Z"
   },
   {
    "duration": 6,
    "start_time": "2023-12-07T16:54:12.614Z"
   },
   {
    "duration": 163,
    "start_time": "2023-12-07T16:54:12.621Z"
   },
   {
    "duration": 76,
    "start_time": "2023-12-07T16:54:12.786Z"
   },
   {
    "duration": 178,
    "start_time": "2023-12-07T16:54:12.864Z"
   },
   {
    "duration": 313,
    "start_time": "2023-12-07T16:54:13.043Z"
   },
   {
    "duration": 370,
    "start_time": "2023-12-07T16:54:13.358Z"
   },
   {
    "duration": 24,
    "start_time": "2023-12-07T16:54:13.730Z"
   },
   {
    "duration": 27,
    "start_time": "2023-12-07T16:54:13.755Z"
   },
   {
    "duration": 530,
    "start_time": "2023-12-07T16:54:13.784Z"
   },
   {
    "duration": 511,
    "start_time": "2023-12-07T16:54:14.316Z"
   },
   {
    "duration": 27,
    "start_time": "2023-12-07T16:54:14.828Z"
   },
   {
    "duration": 39,
    "start_time": "2023-12-07T16:54:14.857Z"
   },
   {
    "duration": 5,
    "start_time": "2023-12-07T16:54:14.898Z"
   },
   {
    "duration": 833,
    "start_time": "2023-12-07T16:54:14.904Z"
   },
   {
    "duration": 143,
    "start_time": "2023-12-07T16:54:15.739Z"
   },
   {
    "duration": 9,
    "start_time": "2023-12-07T16:54:15.883Z"
   },
   {
    "duration": 178,
    "start_time": "2023-12-07T16:54:15.895Z"
   },
   {
    "duration": 358,
    "start_time": "2023-12-07T16:54:16.074Z"
   },
   {
    "duration": 5,
    "start_time": "2023-12-07T16:54:16.434Z"
   },
   {
    "duration": 5,
    "start_time": "2023-12-07T16:54:16.441Z"
   },
   {
    "duration": 6,
    "start_time": "2023-12-07T16:54:16.447Z"
   },
   {
    "duration": 29,
    "start_time": "2023-12-07T16:54:16.454Z"
   },
   {
    "duration": 124,
    "start_time": "2023-12-07T16:54:16.485Z"
   },
   {
    "duration": 4,
    "start_time": "2023-12-07T16:54:16.611Z"
   },
   {
    "duration": 130,
    "start_time": "2023-12-07T16:54:16.617Z"
   },
   {
    "duration": 13,
    "start_time": "2023-12-07T18:16:29.949Z"
   },
   {
    "duration": 102,
    "start_time": "2023-12-07T18:16:49.332Z"
   },
   {
    "duration": 3126,
    "start_time": "2023-12-07T19:07:16.276Z"
   },
   {
    "duration": 1263,
    "start_time": "2023-12-07T19:07:22.510Z"
   },
   {
    "duration": 91,
    "start_time": "2023-12-07T19:07:26.622Z"
   },
   {
    "duration": 2263,
    "start_time": "2023-12-07T19:07:48.951Z"
   },
   {
    "duration": 3,
    "start_time": "2023-12-07T19:07:51.216Z"
   },
   {
    "duration": 68,
    "start_time": "2023-12-07T19:07:51.220Z"
   },
   {
    "duration": 77,
    "start_time": "2023-12-07T19:07:51.289Z"
   },
   {
    "duration": 62,
    "start_time": "2023-12-07T19:07:51.367Z"
   },
   {
    "duration": 9,
    "start_time": "2023-12-07T19:07:51.431Z"
   },
   {
    "duration": 16,
    "start_time": "2023-12-07T19:07:51.441Z"
   },
   {
    "duration": 894,
    "start_time": "2023-12-07T19:07:51.458Z"
   },
   {
    "duration": 7,
    "start_time": "2023-12-07T19:07:52.353Z"
   },
   {
    "duration": 23,
    "start_time": "2023-12-07T19:07:52.362Z"
   },
   {
    "duration": 12,
    "start_time": "2023-12-07T19:07:52.386Z"
   },
   {
    "duration": 9,
    "start_time": "2023-12-07T19:07:52.400Z"
   },
   {
    "duration": 191,
    "start_time": "2023-12-07T19:07:52.411Z"
   },
   {
    "duration": 109,
    "start_time": "2023-12-07T19:07:52.604Z"
   },
   {
    "duration": 196,
    "start_time": "2023-12-07T19:07:52.714Z"
   },
   {
    "duration": 363,
    "start_time": "2023-12-07T19:07:52.912Z"
   },
   {
    "duration": 397,
    "start_time": "2023-12-07T19:07:53.276Z"
   },
   {
    "duration": 29,
    "start_time": "2023-12-07T19:07:53.675Z"
   },
   {
    "duration": 12,
    "start_time": "2023-12-07T19:07:53.705Z"
   },
   {
    "duration": 578,
    "start_time": "2023-12-07T19:07:53.718Z"
   },
   {
    "duration": 60,
    "start_time": "2023-12-08T07:53:30.591Z"
   },
   {
    "duration": 43,
    "start_time": "2023-12-08T07:54:42.187Z"
   },
   {
    "duration": 3048,
    "start_time": "2023-12-08T07:54:52.307Z"
   },
   {
    "duration": 1246,
    "start_time": "2023-12-08T07:54:55.357Z"
   },
   {
    "duration": 105,
    "start_time": "2023-12-08T07:54:56.605Z"
   },
   {
    "duration": 164,
    "start_time": "2023-12-08T07:54:56.712Z"
   },
   {
    "duration": 69,
    "start_time": "2023-12-08T07:54:56.878Z"
   },
   {
    "duration": 10,
    "start_time": "2023-12-08T07:54:56.948Z"
   },
   {
    "duration": 13,
    "start_time": "2023-12-08T07:54:56.959Z"
   },
   {
    "duration": 889,
    "start_time": "2023-12-08T07:54:56.973Z"
   },
   {
    "duration": 6,
    "start_time": "2023-12-08T07:54:57.864Z"
   },
   {
    "duration": 7,
    "start_time": "2023-12-08T07:54:57.872Z"
   },
   {
    "duration": 24,
    "start_time": "2023-12-08T07:54:57.880Z"
   },
   {
    "duration": 20,
    "start_time": "2023-12-08T07:54:57.905Z"
   },
   {
    "duration": 142,
    "start_time": "2023-12-08T07:54:57.927Z"
   },
   {
    "duration": 79,
    "start_time": "2023-12-08T07:54:58.071Z"
   },
   {
    "duration": 186,
    "start_time": "2023-12-08T07:54:58.152Z"
   },
   {
    "duration": 7,
    "start_time": "2023-12-08T07:55:12.098Z"
   },
   {
    "duration": 60,
    "start_time": "2023-12-08T07:57:28.876Z"
   },
   {
    "duration": 2302,
    "start_time": "2023-12-08T07:57:35.715Z"
   },
   {
    "duration": 4,
    "start_time": "2023-12-08T07:57:38.019Z"
   },
   {
    "duration": 74,
    "start_time": "2023-12-08T07:57:38.024Z"
   },
   {
    "duration": 39,
    "start_time": "2023-12-08T07:57:38.099Z"
   },
   {
    "duration": 26,
    "start_time": "2023-12-08T07:57:38.140Z"
   },
   {
    "duration": 14,
    "start_time": "2023-12-08T07:57:38.168Z"
   },
   {
    "duration": 34,
    "start_time": "2023-12-08T07:57:38.183Z"
   },
   {
    "duration": 882,
    "start_time": "2023-12-08T07:57:38.218Z"
   },
   {
    "duration": 7,
    "start_time": "2023-12-08T07:57:39.102Z"
   },
   {
    "duration": 30,
    "start_time": "2023-12-08T07:57:39.110Z"
   },
   {
    "duration": 24,
    "start_time": "2023-12-08T07:57:39.142Z"
   },
   {
    "duration": 19,
    "start_time": "2023-12-08T07:57:39.168Z"
   },
   {
    "duration": 151,
    "start_time": "2023-12-08T07:57:39.189Z"
   },
   {
    "duration": 171,
    "start_time": "2023-12-08T07:57:39.342Z"
   },
   {
    "duration": 174,
    "start_time": "2023-12-08T07:57:39.514Z"
   },
   {
    "duration": 15,
    "start_time": "2023-12-08T07:57:39.689Z"
   },
   {
    "duration": 298,
    "start_time": "2023-12-08T07:57:39.706Z"
   },
   {
    "duration": 287,
    "start_time": "2023-12-08T07:57:40.006Z"
   },
   {
    "duration": 23,
    "start_time": "2023-12-08T07:57:40.299Z"
   },
   {
    "duration": 16,
    "start_time": "2023-12-08T07:57:40.343Z"
   },
   {
    "duration": 13,
    "start_time": "2023-12-08T07:57:43.618Z"
   },
   {
    "duration": 22,
    "start_time": "2023-12-08T07:58:21.628Z"
   },
   {
    "duration": 2302,
    "start_time": "2023-12-08T08:02:45.869Z"
   },
   {
    "duration": 4,
    "start_time": "2023-12-08T08:02:48.173Z"
   },
   {
    "duration": 49,
    "start_time": "2023-12-08T08:02:48.178Z"
   },
   {
    "duration": 39,
    "start_time": "2023-12-08T08:02:48.228Z"
   },
   {
    "duration": 26,
    "start_time": "2023-12-08T08:02:48.269Z"
   },
   {
    "duration": 10,
    "start_time": "2023-12-08T08:02:48.296Z"
   },
   {
    "duration": 13,
    "start_time": "2023-12-08T08:02:48.308Z"
   },
   {
    "duration": 845,
    "start_time": "2023-12-08T08:02:48.322Z"
   },
   {
    "duration": 7,
    "start_time": "2023-12-08T08:02:49.168Z"
   },
   {
    "duration": 6,
    "start_time": "2023-12-08T08:02:49.176Z"
   },
   {
    "duration": 11,
    "start_time": "2023-12-08T08:02:49.199Z"
   },
   {
    "duration": 8,
    "start_time": "2023-12-08T08:02:49.211Z"
   },
   {
    "duration": 143,
    "start_time": "2023-12-08T08:02:49.220Z"
   },
   {
    "duration": 88,
    "start_time": "2023-12-08T08:02:49.366Z"
   },
   {
    "duration": 175,
    "start_time": "2023-12-08T08:02:49.455Z"
   },
   {
    "duration": 7,
    "start_time": "2023-12-08T08:02:49.631Z"
   },
   {
    "duration": 434,
    "start_time": "2023-12-08T08:02:49.639Z"
   },
   {
    "duration": 296,
    "start_time": "2023-12-08T08:02:50.075Z"
   },
   {
    "duration": 36,
    "start_time": "2023-12-08T08:02:50.373Z"
   },
   {
    "duration": 12,
    "start_time": "2023-12-08T08:02:50.411Z"
   },
   {
    "duration": 28,
    "start_time": "2023-12-08T08:02:50.425Z"
   },
   {
    "duration": 505,
    "start_time": "2023-12-08T08:02:50.454Z"
   },
   {
    "duration": 394,
    "start_time": "2023-12-08T08:07:01.803Z"
   },
   {
    "duration": 55,
    "start_time": "2023-12-08T08:08:00.352Z"
   },
   {
    "duration": 410,
    "start_time": "2023-12-08T08:08:19.475Z"
   },
   {
    "duration": 201,
    "start_time": "2023-12-08T08:24:52.771Z"
   },
   {
    "duration": 1336,
    "start_time": "2023-12-08T08:25:16.806Z"
   },
   {
    "duration": 13,
    "start_time": "2023-12-08T08:26:07.432Z"
   },
   {
    "duration": 11,
    "start_time": "2023-12-08T08:26:50.941Z"
   },
   {
    "duration": 119,
    "start_time": "2023-12-08T08:27:04.313Z"
   },
   {
    "duration": 375,
    "start_time": "2023-12-08T08:27:14.201Z"
   },
   {
    "duration": 279,
    "start_time": "2023-12-08T08:27:25.039Z"
   },
   {
    "duration": 298,
    "start_time": "2023-12-08T08:27:28.253Z"
   },
   {
    "duration": 284,
    "start_time": "2023-12-08T08:27:31.084Z"
   },
   {
    "duration": 270,
    "start_time": "2023-12-08T08:28:26.272Z"
   },
   {
    "duration": 285,
    "start_time": "2023-12-08T08:41:10.887Z"
   },
   {
    "duration": 369,
    "start_time": "2023-12-08T08:41:47.748Z"
   },
   {
    "duration": 442,
    "start_time": "2023-12-08T08:45:05.510Z"
   },
   {
    "duration": 432,
    "start_time": "2023-12-08T08:45:29.752Z"
   },
   {
    "duration": 445,
    "start_time": "2023-12-08T08:46:03.394Z"
   },
   {
    "duration": 521,
    "start_time": "2023-12-08T08:46:17.882Z"
   },
   {
    "duration": 285,
    "start_time": "2023-12-08T08:46:44.193Z"
   },
   {
    "duration": 356,
    "start_time": "2023-12-08T08:46:52.565Z"
   },
   {
    "duration": 391,
    "start_time": "2023-12-08T08:48:56.600Z"
   },
   {
    "duration": 483,
    "start_time": "2023-12-08T08:49:54.943Z"
   },
   {
    "duration": 389,
    "start_time": "2023-12-08T08:51:02.077Z"
   },
   {
    "duration": 368,
    "start_time": "2023-12-08T08:51:17.245Z"
   },
   {
    "duration": 15,
    "start_time": "2023-12-08T08:51:39.791Z"
   },
   {
    "duration": 491,
    "start_time": "2023-12-08T08:51:54.406Z"
   },
   {
    "duration": 394,
    "start_time": "2023-12-08T08:52:01.060Z"
   },
   {
    "duration": 401,
    "start_time": "2023-12-08T08:53:28.094Z"
   },
   {
    "duration": 24,
    "start_time": "2023-12-08T08:54:00.737Z"
   },
   {
    "duration": 395,
    "start_time": "2023-12-08T08:55:07.839Z"
   },
   {
    "duration": 499,
    "start_time": "2023-12-08T08:55:31.400Z"
   },
   {
    "duration": 377,
    "start_time": "2023-12-08T08:56:22.028Z"
   },
   {
    "duration": 385,
    "start_time": "2023-12-08T08:57:07.885Z"
   },
   {
    "duration": 393,
    "start_time": "2023-12-08T08:57:34.959Z"
   },
   {
    "duration": 494,
    "start_time": "2023-12-08T08:58:02.008Z"
   },
   {
    "duration": 404,
    "start_time": "2023-12-08T08:58:17.605Z"
   },
   {
    "duration": 2304,
    "start_time": "2023-12-08T09:01:06.253Z"
   },
   {
    "duration": 4,
    "start_time": "2023-12-08T09:01:08.559Z"
   },
   {
    "duration": 78,
    "start_time": "2023-12-08T09:01:08.565Z"
   },
   {
    "duration": 41,
    "start_time": "2023-12-08T09:01:08.644Z"
   },
   {
    "duration": 26,
    "start_time": "2023-12-08T09:01:08.687Z"
   },
   {
    "duration": 9,
    "start_time": "2023-12-08T09:01:08.714Z"
   },
   {
    "duration": 42,
    "start_time": "2023-12-08T09:01:08.725Z"
   },
   {
    "duration": 886,
    "start_time": "2023-12-08T09:01:08.769Z"
   },
   {
    "duration": 7,
    "start_time": "2023-12-08T09:01:09.656Z"
   },
   {
    "duration": 18,
    "start_time": "2023-12-08T09:01:09.665Z"
   },
   {
    "duration": 29,
    "start_time": "2023-12-08T09:01:09.685Z"
   },
   {
    "duration": 7,
    "start_time": "2023-12-08T09:01:09.716Z"
   },
   {
    "duration": 133,
    "start_time": "2023-12-08T09:01:09.725Z"
   },
   {
    "duration": 89,
    "start_time": "2023-12-08T09:01:09.860Z"
   },
   {
    "duration": 181,
    "start_time": "2023-12-08T09:01:09.951Z"
   },
   {
    "duration": 8,
    "start_time": "2023-12-08T09:01:10.134Z"
   },
   {
    "duration": 413,
    "start_time": "2023-12-08T09:01:10.144Z"
   },
   {
    "duration": 290,
    "start_time": "2023-12-08T09:01:10.558Z"
   },
   {
    "duration": 24,
    "start_time": "2023-12-08T09:01:10.849Z"
   },
   {
    "duration": 25,
    "start_time": "2023-12-08T09:01:10.874Z"
   },
   {
    "duration": 23,
    "start_time": "2023-12-08T09:01:10.901Z"
   },
   {
    "duration": 505,
    "start_time": "2023-12-08T09:01:10.926Z"
   },
   {
    "duration": 402,
    "start_time": "2023-12-08T09:01:11.433Z"
   },
   {
    "duration": 564,
    "start_time": "2023-12-08T09:01:11.837Z"
   },
   {
    "duration": 416,
    "start_time": "2023-12-08T09:01:12.403Z"
   },
   {
    "duration": 27,
    "start_time": "2023-12-08T09:01:12.821Z"
   },
   {
    "duration": 26,
    "start_time": "2023-12-08T09:01:12.850Z"
   },
   {
    "duration": 5,
    "start_time": "2023-12-08T09:01:12.878Z"
   },
   {
    "duration": 1059,
    "start_time": "2023-12-08T09:01:12.884Z"
   },
   {
    "duration": 4,
    "start_time": "2023-12-08T09:01:18.589Z"
   },
   {
    "duration": 133,
    "start_time": "2023-12-08T09:02:00.735Z"
   },
   {
    "duration": 4,
    "start_time": "2023-12-08T09:02:27.272Z"
   },
   {
    "duration": 141,
    "start_time": "2023-12-08T09:02:36.643Z"
   },
   {
    "duration": 12,
    "start_time": "2023-12-08T09:02:55.813Z"
   },
   {
    "duration": 817,
    "start_time": "2023-12-08T09:03:25.837Z"
   },
   {
    "duration": 132,
    "start_time": "2023-12-08T09:03:33.770Z"
   },
   {
    "duration": 2337,
    "start_time": "2023-12-08T09:04:02.966Z"
   },
   {
    "duration": 4,
    "start_time": "2023-12-08T09:04:05.306Z"
   },
   {
    "duration": 75,
    "start_time": "2023-12-08T09:04:05.312Z"
   },
   {
    "duration": 40,
    "start_time": "2023-12-08T09:04:05.389Z"
   },
   {
    "duration": 27,
    "start_time": "2023-12-08T09:04:05.431Z"
   },
   {
    "duration": 9,
    "start_time": "2023-12-08T09:04:05.459Z"
   },
   {
    "duration": 12,
    "start_time": "2023-12-08T09:04:05.470Z"
   },
   {
    "duration": 876,
    "start_time": "2023-12-08T09:04:05.483Z"
   },
   {
    "duration": 7,
    "start_time": "2023-12-08T09:04:06.361Z"
   },
   {
    "duration": 11,
    "start_time": "2023-12-08T09:04:06.369Z"
   },
   {
    "duration": 62,
    "start_time": "2023-12-08T09:04:06.381Z"
   },
   {
    "duration": 14,
    "start_time": "2023-12-08T09:04:06.444Z"
   },
   {
    "duration": 130,
    "start_time": "2023-12-08T09:04:06.459Z"
   },
   {
    "duration": 82,
    "start_time": "2023-12-08T09:04:06.591Z"
   },
   {
    "duration": 278,
    "start_time": "2023-12-08T09:04:06.675Z"
   },
   {
    "duration": 7,
    "start_time": "2023-12-08T09:04:06.955Z"
   },
   {
    "duration": 306,
    "start_time": "2023-12-08T09:04:06.964Z"
   },
   {
    "duration": 310,
    "start_time": "2023-12-08T09:04:07.271Z"
   },
   {
    "duration": 38,
    "start_time": "2023-12-08T09:04:07.582Z"
   },
   {
    "duration": 12,
    "start_time": "2023-12-08T09:04:07.622Z"
   },
   {
    "duration": 55,
    "start_time": "2023-12-08T09:04:07.635Z"
   },
   {
    "duration": 511,
    "start_time": "2023-12-08T09:04:07.692Z"
   },
   {
    "duration": 498,
    "start_time": "2023-12-08T09:04:08.204Z"
   },
   {
    "duration": 537,
    "start_time": "2023-12-08T09:04:08.703Z"
   },
   {
    "duration": 375,
    "start_time": "2023-12-08T09:04:09.242Z"
   },
   {
    "duration": 27,
    "start_time": "2023-12-08T09:04:09.618Z"
   },
   {
    "duration": 26,
    "start_time": "2023-12-08T09:04:09.646Z"
   },
   {
    "duration": 17,
    "start_time": "2023-12-08T09:04:09.673Z"
   },
   {
    "duration": 910,
    "start_time": "2023-12-08T09:04:09.700Z"
   },
   {
    "duration": 139,
    "start_time": "2023-12-08T09:04:10.611Z"
   },
   {
    "duration": 8,
    "start_time": "2023-12-08T09:04:10.752Z"
   },
   {
    "duration": 185,
    "start_time": "2023-12-08T09:04:10.762Z"
   },
   {
    "duration": 293,
    "start_time": "2023-12-08T09:04:10.948Z"
   },
   {
    "duration": 11,
    "start_time": "2023-12-08T09:13:40.581Z"
   },
   {
    "duration": 5,
    "start_time": "2023-12-08T09:21:55.260Z"
   },
   {
    "duration": 6,
    "start_time": "2023-12-08T09:23:18.684Z"
   },
   {
    "duration": 5,
    "start_time": "2023-12-08T09:23:21.616Z"
   },
   {
    "duration": 6,
    "start_time": "2023-12-08T09:24:45.355Z"
   },
   {
    "duration": 6,
    "start_time": "2023-12-08T09:25:14.056Z"
   },
   {
    "duration": 7,
    "start_time": "2023-12-08T09:27:47.556Z"
   },
   {
    "duration": 6,
    "start_time": "2023-12-08T09:27:50.312Z"
   },
   {
    "duration": 2334,
    "start_time": "2023-12-08T09:30:25.395Z"
   },
   {
    "duration": 4,
    "start_time": "2023-12-08T09:30:27.732Z"
   },
   {
    "duration": 66,
    "start_time": "2023-12-08T09:30:27.737Z"
   },
   {
    "duration": 40,
    "start_time": "2023-12-08T09:30:27.804Z"
   },
   {
    "duration": 37,
    "start_time": "2023-12-08T09:30:27.846Z"
   },
   {
    "duration": 18,
    "start_time": "2023-12-08T09:30:27.885Z"
   },
   {
    "duration": 174,
    "start_time": "2023-12-08T09:30:27.905Z"
   },
   {
    "duration": 867,
    "start_time": "2023-12-08T09:30:28.080Z"
   },
   {
    "duration": 8,
    "start_time": "2023-12-08T09:30:28.948Z"
   },
   {
    "duration": 51,
    "start_time": "2023-12-08T09:30:28.957Z"
   },
   {
    "duration": 29,
    "start_time": "2023-12-08T09:30:29.010Z"
   },
   {
    "duration": 14,
    "start_time": "2023-12-08T09:30:29.041Z"
   },
   {
    "duration": 147,
    "start_time": "2023-12-08T09:30:29.056Z"
   },
   {
    "duration": 76,
    "start_time": "2023-12-08T09:30:29.207Z"
   },
   {
    "duration": 189,
    "start_time": "2023-12-08T09:30:29.285Z"
   },
   {
    "duration": 8,
    "start_time": "2023-12-08T09:30:29.476Z"
   },
   {
    "duration": 308,
    "start_time": "2023-12-08T09:30:29.499Z"
   },
   {
    "duration": 301,
    "start_time": "2023-12-08T09:30:29.809Z"
   },
   {
    "duration": 25,
    "start_time": "2023-12-08T09:30:30.112Z"
   },
   {
    "duration": 294,
    "start_time": "2023-12-08T09:30:30.138Z"
   },
   {
    "duration": 163,
    "start_time": "2023-12-08T09:30:30.434Z"
   },
   {
    "duration": 622,
    "start_time": "2023-12-08T09:30:30.599Z"
   },
   {
    "duration": 410,
    "start_time": "2023-12-08T09:30:31.222Z"
   },
   {
    "duration": 518,
    "start_time": "2023-12-08T09:30:31.634Z"
   },
   {
    "duration": 479,
    "start_time": "2023-12-08T09:30:32.154Z"
   },
   {
    "duration": 27,
    "start_time": "2023-12-08T09:30:32.635Z"
   },
   {
    "duration": 46,
    "start_time": "2023-12-08T09:30:32.664Z"
   },
   {
    "duration": 23,
    "start_time": "2023-12-08T09:30:32.712Z"
   },
   {
    "duration": 856,
    "start_time": "2023-12-08T09:30:32.737Z"
   },
   {
    "duration": 144,
    "start_time": "2023-12-08T09:30:33.594Z"
   },
   {
    "duration": 9,
    "start_time": "2023-12-08T09:30:33.740Z"
   },
   {
    "duration": 225,
    "start_time": "2023-12-08T09:30:33.751Z"
   },
   {
    "duration": 292,
    "start_time": "2023-12-08T09:30:33.978Z"
   },
   {
    "duration": 5,
    "start_time": "2023-12-08T09:30:34.271Z"
   },
   {
    "duration": 49,
    "start_time": "2023-12-08T09:30:34.278Z"
   },
   {
    "duration": 96,
    "start_time": "2023-12-08T09:30:34.328Z"
   },
   {
    "duration": 37,
    "start_time": "2023-12-08T09:30:34.425Z"
   },
   {
    "duration": 140,
    "start_time": "2023-12-08T09:30:34.464Z"
   },
   {
    "duration": 6,
    "start_time": "2023-12-08T09:30:34.605Z"
   },
   {
    "duration": 148,
    "start_time": "2023-12-08T09:30:34.612Z"
   },
   {
    "duration": 3434,
    "start_time": "2023-12-08T15:08:52.365Z"
   },
   {
    "duration": 1250,
    "start_time": "2023-12-08T15:08:55.802Z"
   },
   {
    "duration": 95,
    "start_time": "2023-12-08T15:08:57.054Z"
   },
   {
    "duration": 86,
    "start_time": "2023-12-08T15:08:57.152Z"
   },
   {
    "duration": 73,
    "start_time": "2023-12-08T15:08:57.240Z"
   },
   {
    "duration": 11,
    "start_time": "2023-12-08T15:08:57.315Z"
   },
   {
    "duration": 31,
    "start_time": "2023-12-08T15:08:57.328Z"
   },
   {
    "duration": 793,
    "start_time": "2023-12-08T15:08:57.361Z"
   },
   {
    "duration": 7,
    "start_time": "2023-12-08T15:08:58.155Z"
   },
   {
    "duration": 10,
    "start_time": "2023-12-08T15:08:58.164Z"
   },
   {
    "duration": 14,
    "start_time": "2023-12-08T15:08:58.175Z"
   },
   {
    "duration": 7,
    "start_time": "2023-12-08T15:08:58.190Z"
   },
   {
    "duration": 152,
    "start_time": "2023-12-08T15:08:58.221Z"
   },
   {
    "duration": 101,
    "start_time": "2023-12-08T15:08:58.374Z"
   },
   {
    "duration": 191,
    "start_time": "2023-12-08T15:08:58.476Z"
   },
   {
    "duration": 8,
    "start_time": "2023-12-08T15:08:58.668Z"
   },
   {
    "duration": 347,
    "start_time": "2023-12-08T15:08:58.678Z"
   },
   {
    "duration": 412,
    "start_time": "2023-12-08T15:08:59.027Z"
   },
   {
    "duration": 25,
    "start_time": "2023-12-08T15:08:59.441Z"
   },
   {
    "duration": 12,
    "start_time": "2023-12-08T15:08:59.467Z"
   },
   {
    "duration": 49,
    "start_time": "2023-12-08T15:08:59.480Z"
   },
   {
    "duration": 545,
    "start_time": "2023-12-08T15:08:59.531Z"
   },
   {
    "duration": 469,
    "start_time": "2023-12-08T15:09:00.077Z"
   },
   {
    "duration": 676,
    "start_time": "2023-12-08T15:09:00.548Z"
   },
   {
    "duration": 448,
    "start_time": "2023-12-08T15:09:01.226Z"
   },
   {
    "duration": 29,
    "start_time": "2023-12-08T15:09:01.676Z"
   },
   {
    "duration": 96,
    "start_time": "2023-12-08T15:09:01.708Z"
   },
   {
    "duration": 82,
    "start_time": "2023-12-08T15:09:01.807Z"
   },
   {
    "duration": 1195,
    "start_time": "2023-12-08T15:09:01.890Z"
   },
   {
    "duration": 160,
    "start_time": "2023-12-08T15:09:03.087Z"
   },
   {
    "duration": 11,
    "start_time": "2023-12-08T15:09:03.249Z"
   },
   {
    "duration": 211,
    "start_time": "2023-12-08T15:09:03.262Z"
   },
   {
    "duration": 331,
    "start_time": "2023-12-08T15:09:03.475Z"
   },
   {
    "duration": 6,
    "start_time": "2023-12-08T15:09:03.808Z"
   },
   {
    "duration": 6,
    "start_time": "2023-12-08T15:09:03.823Z"
   },
   {
    "duration": 38,
    "start_time": "2023-12-08T15:09:03.831Z"
   },
   {
    "duration": 49,
    "start_time": "2023-12-08T15:09:03.870Z"
   },
   {
    "duration": 326,
    "start_time": "2023-12-08T15:09:03.921Z"
   },
   {
    "duration": 6,
    "start_time": "2023-12-08T15:09:04.248Z"
   },
   {
    "duration": 138,
    "start_time": "2023-12-08T15:09:04.256Z"
   }
  ],
  "kernelspec": {
   "display_name": "Python 3",
   "language": "python",
   "name": "python3"
  },
  "language_info": {
   "codemirror_mode": {
    "name": "ipython",
    "version": 3
   },
   "file_extension": ".py",
   "mimetype": "text/x-python",
   "name": "python",
   "nbconvert_exporter": "python",
   "pygments_lexer": "ipython3",
   "version": "3.9.5"
  },
  "toc": {
   "base_numbering": 1,
   "nav_menu": {},
   "number_sections": true,
   "sideBar": true,
   "skip_h1_title": true,
   "title_cell": "Table of Contents",
   "title_sidebar": "Contents",
   "toc_cell": false,
   "toc_position": {},
   "toc_section_display": true,
   "toc_window_display": false
  }
 },
 "nbformat": 4,
 "nbformat_minor": 5
}
